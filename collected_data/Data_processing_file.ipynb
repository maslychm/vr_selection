{
 "cells": [
  {
   "cell_type": "code",
   "execution_count": 1,
   "id": "5ffa4f6d-a1d5-4d30-b2ea-9c153b67be12",
   "metadata": {},
   "outputs": [],
   "source": [
    "#Data analysis for 3DUI Project - \n",
    "#Starting author: Esteban Segarra\n",
    "#Supporting/Data collecting author: Mykola Maslych @maslychm"
   ]
  },
  {
   "cell_type": "code",
   "execution_count": 2,
   "id": "4ce080a0-94ae-48ef-8479-65f87108b0b8",
   "metadata": {},
   "outputs": [],
   "source": [
    "#First we want to try to laoad the data in and put it in a dataframe. \n",
    "import pandas as pd\n",
    "#returns dataframe \n",
    "def load_my_data(filename):\n",
    "    return pd.read_csv(filename,delimiter=\";\")"
   ]
  },
  {
   "cell_type": "code",
   "execution_count": 11,
   "id": "d2539410-4221-4aa6-b3a3-3cde943e0eb8",
   "metadata": {},
   "outputs": [
    {
     "data": {
      "text/html": [
       "<div>\n",
       "<style scoped>\n",
       "    .dataframe tbody tr th:only-of-type {\n",
       "        vertical-align: middle;\n",
       "    }\n",
       "\n",
       "    .dataframe tbody tr th {\n",
       "        vertical-align: top;\n",
       "    }\n",
       "\n",
       "    .dataframe thead th {\n",
       "        text-align: right;\n",
       "    }\n",
       "</style>\n",
       "<table border=\"1\" class=\"dataframe\">\n",
       "  <thead>\n",
       "    <tr style=\"text-align: right;\">\n",
       "      <th></th>\n",
       "      <th>username</th>\n",
       "      <th>technique_name</th>\n",
       "      <th>total_time</th>\n",
       "      <th>left_button_presses</th>\n",
       "      <th>right_button_presses</th>\n",
       "      <th>time_per_object</th>\n",
       "      <th>left_hand_distances</th>\n",
       "      <th>right_hand_distances</th>\n",
       "    </tr>\n",
       "  </thead>\n",
       "  <tbody>\n",
       "    <tr>\n",
       "      <th>0</th>\n",
       "      <td>artem</td>\n",
       "      <td>shapes</td>\n",
       "      <td>101.3444</td>\n",
       "      <td>[25,0,0,0,0,0]</td>\n",
       "      <td>[25,0,0,0,0,0]</td>\n",
       "      <td>[13.63333,3.522223,3.722223,4.088888,6.366667,...</td>\n",
       "      <td>[0.1246171,1.171864,1.354634,1.467293,1.343784...</td>\n",
       "      <td>[1.13594,1.247473,1.104304,1.981568,3.592282,2...</td>\n",
       "    </tr>\n",
       "  </tbody>\n",
       "</table>\n",
       "</div>"
      ],
      "text/plain": [
       "  username technique_name  total_time left_button_presses  \\\n",
       "0    artem         shapes    101.3444      [25,0,0,0,0,0]   \n",
       "\n",
       "  right_button_presses                                    time_per_object  \\\n",
       "0       [25,0,0,0,0,0]  [13.63333,3.522223,3.722223,4.088888,6.366667,...   \n",
       "\n",
       "                                 left_hand_distances  \\\n",
       "0  [0.1246171,1.171864,1.354634,1.467293,1.343784...   \n",
       "\n",
       "                                right_hand_distances  \n",
       "0  [1.13594,1.247473,1.104304,1.981568,3.592282,2...  "
      ]
     },
     "execution_count": 11,
     "metadata": {},
     "output_type": "execute_result"
    }
   ],
   "source": [
    "#Next we want to locate ourselves in this folder and get the data into dataframes \n",
    "import os \n",
    "\n",
    "curr_folder = os.getcwd()\n",
    "list_of_files = os.listdir(curr_folder)\n",
    "shapes_df = []\n",
    "dir_df    = []\n",
    "\n",
    "\n",
    "#Bring in the data throug the dataframes done. \n",
    "for file in list_of_files:\n",
    "    if(\"shape\" in file):\n",
    "        dat = load_my_data(curr_folder + \"\\\\\" + file) \n",
    "        shapes_df.append(dat)\n",
    "    elif(\"directions\" in file):\n",
    "        dat = load_my_data(curr_folder + \"\\\\\" + file) \n",
    "        dir_df.append(dat)\n",
    "shapes_df[0].columns\n",
    "shapes_df[0]\n"
   ]
  },
  {
   "cell_type": "code",
   "execution_count": 4,
   "id": "301dccaa-c8d5-47a4-aa88-7f985261cad6",
   "metadata": {},
   "outputs": [],
   "source": [
    "# !pip install seaborn\n",
    "import seaborn \n",
    "\n",
    "\n",
    "\n",
    "# shapes_df[0]"
   ]
  },
  {
   "cell_type": "code",
   "execution_count": 5,
   "id": "4115f03c-76e6-40fe-91fd-7fdeaf211076",
   "metadata": {},
   "outputs": [
    {
     "data": {
      "text/plain": [
       "'artem'"
      ]
     },
     "execution_count": 5,
     "metadata": {},
     "output_type": "execute_result"
    }
   ],
   "source": [
    "#Get the item from the list\n",
    "#Get the row from iloc\n",
    "#Get the individual item with index\n",
    "shapes_df[0].loc[0][0]"
   ]
  },
  {
   "cell_type": "code",
   "execution_count": 6,
   "id": "0aef9fb4-8df9-4853-b62b-0bdbc25c0951",
   "metadata": {},
   "outputs": [],
   "source": [
    "def process_array_from_string(array):\n",
    "    return ast.literal_eval(array)\n",
    "\n",
    "def unpack_df(df_in):\n",
    "    times = []\n",
    "    buttons_pressed = []\n",
    "    \n",
    "    #We wamt to do a bit of processing, in specific cleaning up the fact this is so packed. \n",
    "    for df in df_in:\n",
    "        times.append(df.loc[0][2])\n",
    "        L_hand = process_array_from_string(df.loc[0][3]) #Collect the string and convert over\n",
    "        R_hand = process_array_from_string(df.loc[0][4]) \n",
    "        buttons_pressed.append((L_hand[0],R_hand[0])) \n",
    "        \n",
    "    return times, buttons_pressed\n",
    "\n",
    "def add_tuple_button_results(tuple_buttons):\n",
    "    arr = []\n",
    "    for tup in tuple_buttons:\n",
    "        arr.append((tup[0] + tup[1])/2) \n",
    "    return arr\n",
    "\n",
    "def get_tuple_indexed(index, tupl):\n",
    "    arr = []\n",
    "    for tup in tupl:\n",
    "        arr.append(tup[index])\n",
    "    return arr"
   ]
  },
  {
   "cell_type": "code",
   "execution_count": 7,
   "id": "057a80e7-7dd6-490c-a9e0-e6349ea97d3e",
   "metadata": {},
   "outputs": [],
   "source": [
    "import ast\n",
    "import matplotlib as plt\n",
    "#For the first dataset of shapes\n",
    "times_spent_shapes = [] \n",
    "buttons_presed_shapes = []\n",
    "#For the secondary dataset of direction\n",
    "times_spent_directions = []\n",
    "buttons_pressed_directions = []\n",
    "\n",
    "times_spent_shapes, buttons_presed_shapes          = unpack_df(shapes_df)\n",
    "times_spent_directions, buttons_pressed_directions = unpack_df(dir_df)\n"
   ]
  },
  {
   "cell_type": "code",
   "execution_count": 8,
   "id": "eb031dc1-093a-41f9-87a9-6d2b6ba37928",
   "metadata": {},
   "outputs": [
    {
     "data": {
      "text/plain": [
       "<seaborn.axisgrid.PairGrid at 0x1c8980f8198>"
      ]
     },
     "execution_count": 8,
     "metadata": {},
     "output_type": "execute_result"
    },
    {
     "data": {
      "image/png": "[encoded data removed]",
      "text/plain": [
       "<Figure size 288x576 with 2 Axes>"
      ]
     },
     "metadata": {
      "needs_background": "light"
     },
     "output_type": "display_data"
    }
   ],
   "source": [
    "#Doing some dataframe magic here.\n",
    "#Clicks vs techniques for Shape Technique\n",
    "# times_and_shapes = {\"Time to finish in Seconds\":times_spent_shapes, \"Buttons Pressed\": add_tuple_button_results(buttons_presed_shapes)}\n",
    "times_and_shapes = {\"Time to finish in Seconds\":times_spent_shapes, \"Left Hand Presses\":get_tuple_indexed(0,buttons_presed_shapes), \"Right Hand Presses\": get_tuple_indexed(1,buttons_presed_shapes)}\n",
    "shapes_df_times_button = pd.DataFrame(data = times_and_shapes).sort_values(by=['Time to finish in Seconds'])\n",
    "\n",
    "g = seaborn.PairGrid(shapes_df_times_button , x_vars=\"Time to finish in Seconds\", y_vars=[\"Left Hand Presses\",\"Right Hand Presses\"],height=4,palette=[\"Left Hand Presses\",\"Right Hand Presses\"])\n",
    "# g.add_legend(title=\"Times for Button Presses with Shape Technique\" )\n",
    "g.map_diag(seaborn.histplot, color=\".3\")\n",
    "g.map_offdiag(seaborn.scatterplot)\n",
    "\n",
    " \n",
    "\n",
    "#Junkyard\n",
    "\n",
    "# seaborn.scatterplot(data=shapes_df_times_button, x=\"Time to finish in Seconds\", y=\"Buttons Pressed\", legend=True)\n",
    "# seaborn.rugplot(data=shapes_df_times_button, x=\"Time to finish in Seconds\", y=\"Buttons Pressed\", legend=True)\n",
    "# g = seaborn.PairGrid(shapes_df_times_button,corner = True)\n",
    "# g.map(seaborn.scatterplot)\n",
    "\n",
    "# seaborn.jointplot(data=shapes_df_times_button, x=\"Time to finish in Seconds\", y=\"Buttons Pressed\")\n",
    "# seaborn.kdeplot(data=shapes_df_times_button, x=\"Time to finish in Seconds\")\n",
    "# seaborn.lmplot('Time to finish', 'Buttons Pressed', data=shapes_df_times_buttons, fit_reg=False)\n",
    "# seaborn.distplot(shapes_df_times_buttons)\n",
    "# seaborn.rugplot(shapes_df_times_buttons)\n",
    "# plt.hist(shapes_df_times_buttons, alpha=.3)\n",
    "# seaborn.kdeplot(data=shapes_df_times_button, x=\"Time to finish\", hue=\"Left Hand Presses\", multiple=\"stack\")\n",
    "# seaborn.displot(data=times_and_shapes, x=\"Time to finish in Seconds\", hue=\"Left Hand Presses\", multiple=\"stack\")\n",
    "# seaborn.displot(data=times_and_shapes, x=\"Time to finish in Seconds\", y=\"Buttons Pressed\")\n",
    "\n",
    "# seaborn.histplot(data=times_and_shapes, x=\"Time to finish in Seconds\", y=\"Buttons Pressed\", kde=True)\n",
    "# seaborn.displot(data=times_and_shapes, x=\"Time to finish in Seconds\", kde=True)0\n",
    "# seaborn.displot(data=times_and_shapes, x=\"Time to finish in Seconds\",kind=\"ecdf\", rug=True, legend=True)\n",
    "\n",
    "# seaborn.displot(\n",
    "#     data=times_and_shapes, hue=\"Left Hand Presses\",   col=\"Time to finish in Seconds\",\n",
    "#     kind=\"ecdf\", height=4, aspect=.7,\n",
    "# )\n",
    "# seaborn.displot(data=times_and_shapes, x=\"Time to finish in Seconds\", hue=\"Left Hand Presses\", col=\"Right Hand Presses\", kind=\"kde\")\n",
    "# seaborn.kdeplot(shapes_df_times_buttons[\"Time to finish\"])\n",
    "# shapes_df_times_button"
   ]
  },
  {
   "cell_type": "code",
   "execution_count": 9,
   "id": "71615eb2-aa40-440d-a57b-4aa11734105f",
   "metadata": {},
   "outputs": [
    {
     "data": {
      "text/plain": [
       "<seaborn.axisgrid.PairGrid at 0x1c8994e1c50>"
      ]
     },
     "execution_count": 9,
     "metadata": {},
     "output_type": "execute_result"
    },
    {
     "data": {
      "image/png": "[encoded data removed]",
      "text/plain": [
       "<Figure size 288x576 with 2 Axes>"
      ]
     },
     "metadata": {
      "needs_background": "light"
     },
     "output_type": "display_data"
    }
   ],
   "source": [
    "#Doing some dataframe magic here.\n",
    "#Clicks vs techniques for Direction Technique\n",
    "# times_and_shapes = {\"Time to finish in Seconds\":times_spent_shapes, \"Buttons Pressed\": add_tuple_button_results(buttons_presed_shapes)}\n",
    "times_and_dirs = {\"Time to finish in Seconds\":times_spent_directions, \"Left Hand Presses\":get_tuple_indexed(0,buttons_pressed_directions), \"Right Hand Presses\": get_tuple_indexed(1,buttons_pressed_directions)}\n",
    "dirs_df_times_button = pd.DataFrame(data = times_and_dirs).sort_values(by=['Time to finish in Seconds'])\n",
    "\n",
    "q = seaborn.PairGrid(dirs_df_times_button , x_vars=\"Time to finish in Seconds\", y_vars=[\"Left Hand Presses\",\"Right Hand Presses\"],height=4,palette=[\"Left Hand Presses\",\"Right Hand Presses\"])\n",
    "# g.add_legend(title=\"Times for Button Presses with Shape Technique\" )\n",
    "q.map_diag(seaborn.histplot, color=\".3\")\n",
    "q.map_offdiag(seaborn.scatterplot)"
   ]
  },
  {
   "cell_type": "code",
   "execution_count": 10,
   "id": "a944e415-4885-49fa-887f-3356f555ddbd",
   "metadata": {},
   "outputs": [],
   "source": [
    "#time per pickup vs num objects left in scene vs techniques, \n",
    "\n",
    "\n",
    "#clicks vs objects left in scene vs techniques, same for hand distances"
   ]
  }
 ],
 "metadata": {
  "kernelspec": {
   "display_name": "Python 3 (ipykernel)",
   "language": "python",
   "name": "python3"
  },
  "language_info": {
   "codemirror_mode": {
    "name": "ipython",
    "version": 3
   },
   "file_extension": ".py",
   "mimetype": "text/x-python",
   "name": "python",
   "nbconvert_exporter": "python",
   "pygments_lexer": "ipython3",
   "version": "3.7.3"
  }
 },
 "nbformat": 4,
 "nbformat_minor": 5
}
