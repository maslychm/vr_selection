{
 "cells": [
  {
   "cell_type": "code",
   "execution_count": 46,
   "metadata": {},
   "outputs": [],
   "source": [
    "import pandas as pd\n",
    "import numpy as np"
   ]
  },
  {
   "attachments": {},
   "cell_type": "markdown",
   "metadata": {},
   "source": [
    "## Format into what ART takes"
   ]
  },
  {
   "cell_type": "code",
   "execution_count": 47,
   "metadata": {},
   "outputs": [],
   "source": [
    "df = pd.read_csv('clean.csv')\n",
    "df[\"Subject\"] = df[\"subject_id\"].apply(lambda x: x[4:])"
   ]
  },
  {
   "cell_type": "code",
   "execution_count": 17,
   "metadata": {},
   "outputs": [],
   "source": [
    "# df[\"density\"].replace({\"low\": 1, \"medium\": 2, \"high\": 3}, inplace=True)\n",
    "# df[\"technique\"].replace({\"ConeExpand\": 1, \"2DMiniMap+\": 2, \"3DMiniMap\": 3, \"GravityZone+\": 4}, inplace=True)\n",
    "df[\"technique\"].replace({\"ConeExpand\": \"Cone\", \"2DMiniMap+\": 'Two', \"3DMiniMap\": \"Three\", \"GravityZone+\": \"Gravity\"}, inplace=True)"
   ]
  },
  {
   "cell_type": "code",
   "execution_count": 18,
   "metadata": {},
   "outputs": [],
   "source": [
    "searchdf = df[df[\"trial_type\"] == \"Search\"].groupby([\"Subject\", \"technique\", \"density\"]).mean().reset_index()[[\"Subject\", \"technique\", \"density\", \"trial_time\"]]\n",
    "repeatdf = df[df[\"trial_type\"] == \"Repeat\"].groupby([\"Subject\", \"technique\", \"density\"]).mean().reset_index()[[\"Subject\", \"technique\", \"density\", \"trial_time\"]]"
   ]
  },
  {
   "cell_type": "code",
   "execution_count": 19,
   "metadata": {},
   "outputs": [
    {
     "data": {
      "text/plain": [
       "array(['10', '11', '12', '13', '14', '15', '16', '17', '18', '19', '2',\n",
       "       '20', '21', '22', '23', '24', '25', '3', '4', '5', '6', '7', '8',\n",
       "       '9'], dtype=object)"
      ]
     },
     "execution_count": 19,
     "metadata": {},
     "output_type": "execute_result"
    }
   ],
   "source": [
    "searchdf.Subject.unique()"
   ]
  },
  {
   "cell_type": "code",
   "execution_count": 20,
   "metadata": {},
   "outputs": [],
   "source": [
    "searchdf.to_csv(\"search.csv\", index=False)\n",
    "repeatdf.to_csv(\"repeat.csv\", index=False)"
   ]
  },
  {
   "attachments": {},
   "cell_type": "markdown",
   "metadata": {},
   "source": [
    "## Process using ART and re-open"
   ]
  },
  {
   "cell_type": "code",
   "execution_count": 48,
   "metadata": {},
   "outputs": [],
   "source": [
    "searchdf = pd.read_csv(\"search.art.csv\")\n",
    "repeatdf = pd.read_csv(\"repeat.art.csv\")"
   ]
  },
  {
   "cell_type": "code",
   "execution_count": 22,
   "metadata": {},
   "outputs": [
    {
     "data": {
      "text/plain": [
       "Index(['Subject', 'technique', 'density', 'trial_time',\n",
       "       'aligned(trial_time) for technique', 'aligned(trial_time) for density',\n",
       "       'aligned(trial_time) for technique*density',\n",
       "       'ART(trial_time) for technique', 'ART(trial_time) for density',\n",
       "       'ART(trial_time) for technique*density'],\n",
       "      dtype='object')"
      ]
     },
     "execution_count": 22,
     "metadata": {},
     "output_type": "execute_result"
    }
   ],
   "source": [
    "searchdf.columns"
   ]
  },
  {
   "cell_type": "code",
   "execution_count": 49,
   "metadata": {},
   "outputs": [],
   "source": [
    "# reogranize into what SPSS takes\n",
    "\n",
    "search_technique_spss_lines = []\n",
    "search_density_spss_lines = []\n",
    "search_interaction_spss_lines = []\n",
    "\n",
    "for sub_idx, s in enumerate(searchdf.Subject.unique(), start=1):\n",
    "    subject_row_technique = {\"subjedct_id\": sub_idx}\n",
    "    subject_row_density = {\"subjedct_id\": sub_idx}\n",
    "    subject_row_interaction = {\"subjedct_id\": sub_idx}\n",
    "\n",
    "    for technique in searchdf.technique.unique():\n",
    "        for density in searchdf.density.unique():\n",
    "\n",
    "            pdf = searchdf[\n",
    "                (searchdf[\"technique\"] == technique) &\n",
    "                (searchdf[\"density\"] == density) &\n",
    "                (searchdf[\"Subject\"] == s)\n",
    "            ]\n",
    "\n",
    "            subject_row_technique[\"_\".join([str(technique), str(density)])] = pdf[\"ART(trial_time) for technique\"].mean()\n",
    "            subject_row_density[\"_\".join([str(technique), str(density)])] = pdf[\"ART(trial_time) for density\"].mean()\n",
    "            subject_row_interaction[\"_\".join([str(technique), str(density)])] = pdf[\"ART(trial_time) for technique*density\"].mean()\n",
    "\n",
    "    search_technique_spss_lines.append(subject_row_technique)\n",
    "    search_density_spss_lines.append(subject_row_density)\n",
    "    search_interaction_spss_lines.append(subject_row_interaction)\n",
    "\n",
    "search_technique_spss = pd.DataFrame(search_technique_spss_lines)\n",
    "search_density_spss = pd.DataFrame(search_density_spss_lines)\n",
    "search_interaction_spss = pd.DataFrame(search_interaction_spss_lines)\n",
    "\n",
    "search_technique_spss.to_csv(\"search_technique_spss.csv\", index=False)\n",
    "search_density_spss.to_csv(\"search_density_spss.csv\", index=False)\n",
    "search_interaction_spss.to_csv(\"search_interaction_spss.csv\", index=False)"
   ]
  },
  {
   "cell_type": "code",
   "execution_count": 50,
   "metadata": {},
   "outputs": [],
   "source": [
    "# reogranize into what SPSS takes\n",
    "\n",
    "repeat_technique_spss_lines = []\n",
    "repeat_density_spss_lines = []\n",
    "repeat_interaction_spss_lines = []\n",
    "\n",
    "for sub_idx, s in enumerate(repeatdf.Subject.unique(), start=1):\n",
    "    subject_row_technique = {\"subjedct_id\": sub_idx}\n",
    "    subject_row_density = {\"subjedct_id\": sub_idx}\n",
    "    subject_row_interaction = {\"subjedct_id\": sub_idx}\n",
    "\n",
    "    for technique in repeatdf.technique.unique():\n",
    "        for density in repeatdf.density.unique():\n",
    "\n",
    "            pdf = repeatdf[\n",
    "                (repeatdf[\"technique\"] == technique) &\n",
    "                (repeatdf[\"density\"] == density) &\n",
    "                (repeatdf[\"Subject\"] == s)\n",
    "            ]\n",
    "\n",
    "            subject_row_technique[\"_\".join([str(technique), str(density)])] = pdf[\"ART(trial_time) for technique\"].mean()\n",
    "            subject_row_density[\"_\".join([str(technique), str(density)])] = pdf[\"ART(trial_time) for density\"].mean()\n",
    "            subject_row_interaction[\"_\".join([str(technique), str(density)])] = pdf[\"ART(trial_time) for technique*density\"].mean()\n",
    "\n",
    "    repeat_technique_spss_lines.append(subject_row_technique)\n",
    "    repeat_density_spss_lines.append(subject_row_density)\n",
    "    repeat_interaction_spss_lines.append(subject_row_interaction)\n",
    "\n",
    "repeat_technique_spss = pd.DataFrame(repeat_technique_spss_lines)\n",
    "repeat_density_spss = pd.DataFrame(repeat_density_spss_lines)\n",
    "repeat_interaction_spss = pd.DataFrame(repeat_interaction_spss_lines)\n",
    "\n",
    "repeat_technique_spss.to_csv(\"repeat_technique_spss.csv\", index=False)\n",
    "repeat_density_spss.to_csv(\"repeat_density_spss.csv\", index=False)\n",
    "repeat_interaction_spss.to_csv(\"repeat_interaction_spss.csv\", index=False)"
   ]
  },
  {
   "attachments": {},
   "cell_type": "markdown",
   "metadata": {},
   "source": [
    "## Contrasts testing"
   ]
  },
  {
   "cell_type": "code",
   "execution_count": 59,
   "metadata": {},
   "outputs": [],
   "source": [
    "# Re-ogranize Search and Repeat for technique into what SPSS takes\n",
    "# This requires to first run the ART-C with the technique condition\n",
    "\n",
    "srch = \"search-technique.art-c.csv\"\n",
    "rept = \"repeat-technique.art-c.csv\"\n",
    "\n",
    "for f in [srch, rept]:\n",
    "    df = pd.read_csv(f)\n",
    "    df_technique_contrast = df.groupby([\"Subject\", \"technique\", \"density\"]).mean().reset_index().groupby(\n",
    "        [\"Subject\", \"technique\"]).mean().reset_index()[[\"Subject\", \"technique\", \"ART-C(trial_time) for technique\"]]\n",
    "\n",
    "    rows = []\n",
    "    for sub_idx, s in enumerate(df_technique_contrast.Subject.unique(), start=1):\n",
    "        subject_row = {\"subjedct_id\": sub_idx}\n",
    "        for technique in df_technique_contrast.technique.unique():\n",
    "            pdf = df_technique_contrast[\n",
    "                (df_technique_contrast[\"technique\"] == technique) &\n",
    "                (df_technique_contrast[\"Subject\"] == s)\n",
    "            ]\n",
    "            subject_row[technique] = pdf[\"ART-C(trial_time) for technique\"].mean()\n",
    "        rows.append(subject_row)\n",
    "    df_technique_contrast_spss = pd.DataFrame(rows)\n",
    "    df_technique_contrast_spss.to_csv(f\"contrast_{f[:6]}_technique_spss.csv\", index=False)"
   ]
  },
  {
   "cell_type": "code",
   "execution_count": 60,
   "metadata": {},
   "outputs": [],
   "source": [
    "# density contrast\n",
    "\n",
    "srch = \"search-density.art-c.csv\"\n",
    "rept = \"repeat-density.art-c.csv\"\n",
    "\n",
    "for f in [srch, rept]:\n",
    "    df = pd.read_csv(f)\n",
    "    df_density_contrast = df.groupby([\"Subject\", \"technique\", \"density\"]).mean().reset_index().groupby(\n",
    "        [\"Subject\", \"density\"]).mean().reset_index()[[\"Subject\", \"density\", \"ART-C(trial_time) for density\"]]\n",
    "\n",
    "    rows = []\n",
    "    for sub_idx, s in enumerate(df_density_contrast.Subject.unique(), start=1):\n",
    "        subject_row = {\"subjedct_id\": sub_idx}\n",
    "        for density in df_density_contrast.density.unique():\n",
    "            pdf = df_density_contrast[\n",
    "                (df_density_contrast[\"density\"] == density) &\n",
    "                (df_density_contrast[\"Subject\"] == s)\n",
    "            ]\n",
    "            subject_row[density] = pdf[\"ART-C(trial_time) for density\"].mean()\n",
    "        rows.append(subject_row)\n",
    "    df_density_contrast_spss = pd.DataFrame(rows)\n",
    "    df_density_contrast_spss.to_csv(f\"contrast_{f[:6]}_density_spss.csv\", index=False)"
   ]
  },
  {
   "cell_type": "code",
   "execution_count": 64,
   "metadata": {},
   "outputs": [],
   "source": [
    "# interaction contrast\n",
    "\n",
    "srch = \"search-techniquedensity.art-c.csv\"\n",
    "rept = \"repeat-techniquedensity.art-c.csv\"\n",
    "\n",
    "for f in [srch, rept]:\n",
    "    df = pd.read_csv(f)\n",
    "    df_interaction_contrast = df.groupby([\"Subject\", \"techniquedensity\"]).mean().reset_index()[\n",
    "        [\"Subject\", \"techniquedensity\", \"ART-C(trial_time) for techniquedensity\"]]\n",
    "\n",
    "    rows = []\n",
    "    for sub_idx, s in enumerate(df_interaction_contrast.Subject.unique(), start=1):\n",
    "        subject_row = {\"subjedct_id\": sub_idx}\n",
    "        for techniquedensity in df_interaction_contrast.techniquedensity.unique():\n",
    "            pdf = df_interaction_contrast[\n",
    "                (df_interaction_contrast[\"techniquedensity\"] == techniquedensity) &\n",
    "                (df_interaction_contrast[\"Subject\"] == s)\n",
    "            ]\n",
    "            subject_row[techniquedensity] = pdf[\"ART-C(trial_time) for techniquedensity\"].mean()\n",
    "        rows.append(subject_row)\n",
    "\n",
    "    df_interaction_contrast_spss = pd.DataFrame(rows)\n",
    "    df_interaction_contrast_spss.to_csv(\n",
    "        f\"contrast_{f[:6]}_interaction_spss.csv\", index=False)"
   ]
  },
  {
   "attachments": {},
   "cell_type": "markdown",
   "metadata": {},
   "source": [
    "### OLD"
   ]
  },
  {
   "cell_type": "code",
   "execution_count": 34,
   "metadata": {},
   "outputs": [],
   "source": [
    "df = pd.read_csv(\"search-density.art-c.csv\")"
   ]
  },
  {
   "cell_type": "code",
   "execution_count": 42,
   "metadata": {},
   "outputs": [],
   "source": [
    "seach_density_contrast_df = df[df[\"technique\"]==\"Two\"].groupby([\"Subject\", \"technique\", \"density\"]).mean().reset_index().groupby([\"Subject\", \"density\"]).mean().reset_index()"
   ]
  },
  {
   "cell_type": "code",
   "execution_count": 43,
   "metadata": {},
   "outputs": [
    {
     "data": {
      "text/plain": [
       "Index(['Subject', 'density', 'trial_time', 'aligned(trial_time) for density',\n",
       "       'ART-C(trial_time) for density'],\n",
       "      dtype='object')"
      ]
     },
     "execution_count": 43,
     "metadata": {},
     "output_type": "execute_result"
    }
   ],
   "source": [
    "seach_density_contrast_df.columns"
   ]
  },
  {
   "cell_type": "code",
   "execution_count": 45,
   "metadata": {},
   "outputs": [],
   "source": [
    "subject_rows = []\n",
    "\n",
    "for sub_id, s in enumerate(seach_density_contrast_df.Subject.unique(), start=1):\n",
    "    subject_row = {\"subjedct_id\": sub_id}\n",
    "    for density in seach_density_contrast_df.density.unique():\n",
    "        pdf = seach_density_contrast_df[\n",
    "            (seach_density_contrast_df[\"Subject\"] == s) &\n",
    "            (seach_density_contrast_df[\"density\"] == density)\n",
    "        ]\n",
    "\n",
    "        subject_row[str(density)] = pdf[\"ART-C(trial_time) for density\"].mean()\n",
    "        \n",
    "        \n",
    "    subject_rows.append(subject_row)\n",
    "\n",
    "final_df = pd.DataFrame(subject_rows)\n",
    "final_df.to_csv(\"seach_density_contrast_df_TWOD.csv\", index=False)\n",
    "\n",
    "        "
   ]
  },
  {
   "cell_type": "code",
   "execution_count": null,
   "metadata": {},
   "outputs": [],
   "source": []
  }
 ],
 "metadata": {
  "kernelspec": {
   "display_name": "ml-torch",
   "language": "python",
   "name": "python3"
  },
  "language_info": {
   "codemirror_mode": {
    "name": "ipython",
    "version": 3
   },
   "file_extension": ".py",
   "mimetype": "text/x-python",
   "name": "python",
   "nbconvert_exporter": "python",
   "pygments_lexer": "ipython3",
   "version": "3.9.7"
  },
  "orig_nbformat": 4,
  "vscode": {
   "interpreter": {
    "hash": "d971ce3efa1926b1a0ebe2dc88f129a5c8e8a290c7c92d6b95bb49733fe1e8fb"
   }
  }
 },
 "nbformat": 4,
 "nbformat_minor": 2
}
