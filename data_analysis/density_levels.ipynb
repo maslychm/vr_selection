{
 "cells": [
  {
   "cell_type": "code",
   "execution_count": 1,
   "metadata": {},
   "outputs": [],
   "source": [
    "import pandas as pd\n",
    "import numpy as np\n",
    "import matplotlib.pyplot as plt\n",
    "import seaborn as sns\n",
    "\n",
    "sns.set_style('whitegrid')"
   ]
  },
  {
   "cell_type": "code",
   "execution_count": 3,
   "metadata": {},
   "outputs": [
    {
     "name": "stdout",
     "output_type": "stream",
     "text": [
      "Number of rows: 2520\n"
     ]
    }
   ],
   "source": [
    "####################################################################################################\n",
    "# pre-process\n",
    "\n",
    "original_csv_links = [\n",
    "    \"/Users/maslychm/projects/vr_selection/Assets/StreamingAssets/density_data/sr_sub2_1665156140.csv\",\n",
    "    \"/Users/maslychm/projects/vr_selection/Assets/StreamingAssets/density_data/sr_sub3_1665169118.csv\",\n",
    "    \"/Users/maslychm/projects/vr_selection/Assets/StreamingAssets/density_data/sr_sub4_1665171433.csv\",\n",
    "    \"/Users/maslychm/projects/vr_selection/Assets/StreamingAssets/density_data/sr_sub5_1665177450.csv\",\n",
    "    \"/Users/maslychm/projects/vr_selection/Assets/StreamingAssets/density_data/sr_sub6_1665181701.csv\",\n",
    "    \"/Users/maslychm/projects/vr_selection/Assets/StreamingAssets/density_data/sr_sub7_1665429371.csv\",\n",
    "    \"/Users/maslychm/projects/vr_selection/Assets/StreamingAssets/density_data/sr_sub8_1665435287.csv\",\n",
    "    \"/Users/maslychm/projects/vr_selection/Assets/StreamingAssets/density_data/sr_sub9_1665447708.csv\",\n",
    "    \"/Users/maslychm/projects/vr_selection/Assets/StreamingAssets/density_data/sr_sub10_1665494513.csv\",\n",
    "    \"/Users/maslychm/projects/vr_selection/Assets/StreamingAssets/density_data/sr_sub11_1665499310.csv\",\n",
    "    \"/Users/maslychm/projects/vr_selection/Assets/StreamingAssets/density_data/sr_sub12_1665522669.csv\",\n",
    "    \"/Users/maslychm/projects/vr_selection/Assets/StreamingAssets/density_data/sr_sub13_1665531443.csv\",\n",
    "    \"/Users/maslychm/projects/vr_selection/Assets/StreamingAssets/density_data/sr_sub14_1665584720.csv\",\n",
    "    \"/Users/maslychm/projects/vr_selection/Assets/StreamingAssets/density_data/sr_sub15_1665591432.csv\",\n",
    "    \"/Users/maslychm/projects/vr_selection/Assets/StreamingAssets/density_data/sr_sub16_1665620373.csv\",\n",
    "    \"/Users/maslychm/projects/vr_selection/Assets/StreamingAssets/density_data/sr_sub17_1665623547.csv\",\n",
    "    \"/Users/maslychm/projects/vr_selection/Assets/StreamingAssets/density_data/sr_sub18_1665671006.csv\",\n",
    "    \"/Users/maslychm/projects/vr_selection/Assets/StreamingAssets/density_data/sr_sub19_1665677719.csv\",\n",
    "    \"/Users/maslychm/projects/vr_selection/Assets/StreamingAssets/density_data/sr_sub20_1665682149.csv\",\n",
    "    \"/Users/maslychm/projects/vr_selection/Assets/StreamingAssets/density_data/sr_sub21_1665688623.csv\",\n",
    "    \"/Users/maslychm/projects/vr_selection/Assets/StreamingAssets/density_data/sr_sub22_1665701569.csv\",\n",
    "]\n",
    "\n",
    "assert len(original_csv_links) == len(list(set(original_csv_links)))\n",
    "\n",
    "csv_root = \"/Users/maslychm/projects/vr_selection/density_data/\"\n",
    "processed_csv_links = []\n",
    "for link in original_csv_links:\n",
    "    df = pd.read_csv(link)\n",
    "    df[\"global_trial_idx\"] = pd.Series(range(1, 121))\n",
    "    \n",
    "    sub_idx = link.split(\"sub\")[-1].split(\"_\")[0]\n",
    "    # print(sub_idx)\n",
    "    processed_csv_link = csv_root + \"sub_\" + sub_idx + \".csv\"\n",
    "    df.to_csv(processed_csv_link, index=False)\n",
    "    processed_csv_links.append(processed_csv_link)\n",
    "\n",
    "del df\n",
    "\n",
    "####################################################################################################\n",
    "# load data\n",
    "\n",
    "dataframes = [pd.read_csv(link) for link in processed_csv_links]\n",
    "dfs = pd.concat(dataframes)\n",
    "\n",
    "# drop trials where number of attemps is more than 1\n",
    "# dfs = dfs[dfs[\"num_attempts\"] == 1]\n",
    "\n",
    "## TODO REMOVE ALL FIRST TRIALS PER TECHNIQUE\n",
    "\n",
    "# drop rows where trial_time is over 20\n",
    "# dfs = dfs[dfs[\"trial_time\"] < 23]\n",
    "\n",
    "# drop above 3 sdtev\n",
    "# dfs = dfs[dfs[\"trial_time\"] < dfs[\"trial_time\"].mean() + 3 * dfs[\"trial_time\"].std()]\n",
    "\n",
    "dfs = dfs.reset_index()\n",
    "\n",
    "# pre-process global trial index: mod global_trial_idx by 31\n",
    "# dfs[\"global_trial_idx\"] = dfs[\"global_trial_idx\"] % 31\n",
    "\n",
    "print(f\"Number of rows: {len(dfs)}\")\n"
   ]
  },
  {
   "cell_type": "code",
   "execution_count": null,
   "metadata": {},
   "outputs": [],
   "source": [
    "# # count number of trials with more than 1 attempt per condition\n",
    "# for technique in dfs.technique.unique():\n",
    "#     for trial_type in dfs.trial_type.unique():\n",
    "        \n",
    "#         # num attempts above 1\n",
    "#         more_attempts_df = dfs[(dfs[\"technique\"] == technique) & (dfs[\"trial_type\"] == trial_type)]\n",
    "#         more_attempts_df = more_attempts_df[more_attempts_df[\"num_attempts\"] > 1][\"num_attempts\"]\n",
    "#         print(technique, trial_type, more_attempts_df.count())"
   ]
  },
  {
   "cell_type": "code",
   "execution_count": 4,
   "metadata": {},
   "outputs": [],
   "source": [
    "order = [\n",
    "    [\"Flower\", \"ConeExpand\"],\n",
    "    [\"OhMiniMap\", \"2DMiniMap+\"],\n",
    "    [\"ThreeDMiniMap\", \"3DMiniMap\"],\n",
    "    [\"GravityZone\", \"GravityZone\"],\n",
    "]"
   ]
  },
  {
   "cell_type": "code",
   "execution_count": 5,
   "metadata": {},
   "outputs": [],
   "source": [
    "dfs.groupby(\n",
    "    [\n",
    "        # \"subject_id\", \n",
    "        \"technique\",\n",
    "        \"trial_type\"\n",
    "    ]\n",
    ")[[\n",
    "    \"trial_time\", \n",
    "    # \"num_attempts\"\n",
    "]].mean()#.plot.bar()\n",
    "\n",
    "pass"
   ]
  },
  {
   "cell_type": "code",
   "execution_count": 6,
   "metadata": {},
   "outputs": [],
   "source": [
    "# ax = sns.catplot(data=dfs, x=\"trial_type\", y=\"trial_time\", col=\"technique\", kind=\"violin\", showfliers=False)"
   ]
  },
  {
   "cell_type": "code",
   "execution_count": 7,
   "metadata": {},
   "outputs": [],
   "source": [
    "# ax = sns.catplot(data=dfs, hue=\"trial_type\", x=\"technique\", y=\"trial_time\", col=\"density\", kind=\"box\", showfliers=False)"
   ]
  },
  {
   "cell_type": "code",
   "execution_count": 8,
   "metadata": {},
   "outputs": [
    {
     "data": {
      "text/plain": [
       "<matplotlib.legend.Legend at 0x155ecd730>"
      ]
     },
     "execution_count": 8,
     "metadata": {},
     "output_type": "execute_result"
    },
    {
     "data": {
      "image/png": "[encoded data removed]",
      "text/plain": [
       "<Figure size 432x288 with 1 Axes>"
      ]
     },
     "metadata": {},
     "output_type": "display_data"
    }
   ],
   "source": [
    "# ax = sns.barplot(data=dfs, x=\"trial_type\", y=\"trial_time\", hue=\"technique\", order=[o[0] for o in techniques_order])\n",
    "ax = sns.barplot(\n",
    "    data=dfs, \n",
    "    x=\"trial_type\", \n",
    "    y=\"trial_time\", \n",
    "    hue=\"technique\", \n",
    "    hue_order=[o[0] for o in order],\n",
    "    order=[\"Search\", \"Repeat\"],\n",
    "    ci=95,\n",
    ")\n",
    "ax.legend(loc=\"lower left\")\n",
    "\n",
    "# set the hue labels\n",
    "handles, labels = ax.get_legend_handles_labels()\n",
    "labels = [o[1] for o in order]\n",
    "ax.legend(handles=handles[:], labels=labels[:])\n",
    "\n",
    "# ax = sns.violinplot(data=dfs, x=\"trial_type\", y=\"trial_time\", hue=\"technique\")"
   ]
  },
  {
   "cell_type": "code",
   "execution_count": null,
   "metadata": {},
   "outputs": [],
   "source": [
    "# ax = sns.histplot(data=dfs, x=\"trial_time\", hue=\"trial_type\", multiple=\"stack\", bins=100)"
   ]
  },
  {
   "cell_type": "code",
   "execution_count": null,
   "metadata": {},
   "outputs": [],
   "source": [
    "# distance to object to trial time\n",
    "# ax = sns.lmplot(x=\"distance_to_obj\", y=\"trial_time\", data=dfs, hue=\"technique\")\n",
    "\n",
    "# split by trial type\n",
    "# ax = sns.lmplot(x=\"distance_to_obj\", y=\"trial_time\", data=dfs, hue=\"technique\", col=\"trial_type\")\n",
    "\n",
    "ax = sns.lmplot(x=\"global_trial_idx\", y=\"trial_time\", data=dfs, col=\"trial_type\", hue=\"technique\")\n",
    "\n",
    "# ax = sns.lineplot(x=\"global_trial_idx\", y=\"trial_time\", data=dfs, hue=\"trial_type\")"
   ]
  },
  {
   "cell_type": "code",
   "execution_count": null,
   "metadata": {},
   "outputs": [],
   "source": [
    "# dfs.groupby([\"technique\", \"trial_type\"])[[\n",
    "#     \"trial_time\", \n",
    "#     \"num_attempts\",\n",
    "#     # \"left_hand_distance_travelled\", \n",
    "#     # \"right_hand_distance_travelled\"\n",
    "# ]].mean()"
   ]
  },
  {
   "cell_type": "code",
   "execution_count": null,
   "metadata": {},
   "outputs": [],
   "source": [
    "# dfs.columns.unique()"
   ]
  },
  {
   "cell_type": "code",
   "execution_count": null,
   "metadata": {},
   "outputs": [],
   "source": [
    "# cleandf = dfs[dfs[\"trial_time\"] < 30]"
   ]
  },
  {
   "cell_type": "code",
   "execution_count": null,
   "metadata": {},
   "outputs": [],
   "source": [
    "# sns.histplot(data=cleandf, x=\"trial_time\", hue=\"trial_type\", multiple=\"stack\", bins=20)"
   ]
  },
  {
   "cell_type": "code",
   "execution_count": null,
   "metadata": {},
   "outputs": [],
   "source": [
    "# grouped_means = dfs.groupby(\n",
    "#     [\n",
    "#         \"subject_id\",\n",
    "#         \"technique\",\n",
    "#         \"trial_type\"\n",
    "#     ]\n",
    "# )[[\n",
    "#     \"trial_time\",\n",
    "#     \"num_attempts\",\n",
    "#     \"technique\",\n",
    "#     \"trial_type\",\n",
    "#     # \"left_hand_distance_travelled\",\n",
    "#     # \"right_hand_distance_travelled\"\n",
    "# ]].mean()\n",
    "\n",
    "# print(len(grouped_means))"
   ]
  },
  {
   "cell_type": "code",
   "execution_count": null,
   "metadata": {},
   "outputs": [],
   "source": [
    "# ax = sns.lmplot(data=dfs, x=\"density\", y=\"trial_time\", hue=\"technique\", col=\"trial_type\")"
   ]
  },
  {
   "cell_type": "code",
   "execution_count": null,
   "metadata": {},
   "outputs": [],
   "source": [
    "# single_attempt_dfs = dfs[dfs[\"num_attempts\"] == 1]\n",
    "# print(len(single_attempt_dfs))"
   ]
  },
  {
   "cell_type": "code",
   "execution_count": null,
   "metadata": {},
   "outputs": [],
   "source": [
    "# ax = sns.barplot(\n",
    "#     data=single_attempt_dfs, \n",
    "#     x=\"trial_type\", \n",
    "#     y=\"trial_time\", \n",
    "#     hue=\"technique\", \n",
    "#     hue_order=[o[0] for o in order],\n",
    "# )"
   ]
  },
  {
   "cell_type": "code",
   "execution_count": 9,
   "metadata": {},
   "outputs": [
    {
     "name": "stdout",
     "output_type": "stream",
     "text": [
      "2469\n",
      "diff =  51\n"
     ]
    }
   ],
   "source": [
    "# remove outliers per-techique per-trial-type\n",
    "\n",
    "dfs_no_outliers_per_condition = pd.DataFrame()\n",
    "\n",
    "for technique in dfs.technique.unique():\n",
    "    tdfs = dfs[dfs[\"technique\"] == technique]\n",
    "\n",
    "    for trial_type in tdfs.trial_type.unique():\n",
    "        ttdfs = tdfs[tdfs[\"trial_type\"] == trial_type]\n",
    "\n",
    "        # drop outliers which are above 3 standard deviations for trial time\n",
    "        cleandfs = ttdfs[ttdfs[\"trial_time\"] < ttdfs[\"trial_time\"].mean() + 3 * ttdfs[\"trial_time\"].std()]\n",
    "\n",
    "        dfs_no_outliers_per_condition = pd.concat([dfs_no_outliers_per_condition, cleandfs])\n",
    "\n",
    "print(len(dfs_no_outliers_per_condition))\n",
    "\n",
    "print(\"diff = \", len(dfs) - len(dfs_no_outliers_per_condition))"
   ]
  },
  {
   "cell_type": "code",
   "execution_count": 10,
   "metadata": {},
   "outputs": [
    {
     "data": {
      "text/plain": [
       "<matplotlib.legend.Legend at 0x155ffcc10>"
      ]
     },
     "execution_count": 10,
     "metadata": {},
     "output_type": "execute_result"
    },
    {
     "data": {
      "image/png": "[encoded data removed]",
      "text/plain": [
       "<Figure size 432x288 with 1 Axes>"
      ]
     },
     "metadata": {},
     "output_type": "display_data"
    }
   ],
   "source": [
    "ax = sns.barplot(\n",
    "    data=dfs_no_outliers_per_condition, \n",
    "    x=\"trial_type\", \n",
    "    y=\"trial_time\", \n",
    "    hue=\"technique\", \n",
    "    hue_order=[o[0] for o in order],\n",
    "    order=[\"Search\", \"Repeat\"],\n",
    "    ci=95,\n",
    ")\n",
    "ax.legend(loc=\"lower left\")\n",
    "\n",
    "# set size of plot\n",
    "# fig = plt.gcf()\n",
    "# fig.set_size_inches(10, 6)\n",
    "\n",
    "# set the hue labels\n",
    "handles, labels = ax.get_legend_handles_labels()\n",
    "labels = [o[1] for o in order]\n",
    "ax.legend(handles=handles[:], labels=labels[:])"
   ]
  },
  {
   "cell_type": "code",
   "execution_count": null,
   "metadata": {},
   "outputs": [],
   "source": [
    "dfs_no_outliers_per_condition.groupby([\"technique\"])[\"trial_time\"].mean()"
   ]
  },
  {
   "cell_type": "code",
   "execution_count": 11,
   "metadata": {},
   "outputs": [],
   "source": [
    "# organize data: rows are partcipants, colums are conditions\n",
    "\n",
    "condensed_df = pd.DataFrame()\n",
    "\n",
    "for subject in dfs_no_outliers_per_condition.subject_id.unique():\n",
    "    sdfs = dfs_no_outliers_per_condition[dfs_no_outliers_per_condition[\"subject_id\"] == subject]\n",
    "\n",
    "    # subject_row = dict()\n",
    "    # subject_row[\"subject_id\"] = subject\n",
    "\n",
    "    for technique in sdfs.technique.unique():\n",
    "        tdfs = sdfs[sdfs[\"technique\"] == technique]\n",
    "\n",
    "        for trial_type in tdfs.trial_type.unique():\n",
    "            ttdfs = tdfs[tdfs[\"trial_type\"] == trial_type]\n",
    "\n",
    "            condition_row = dict()\n",
    "            condition_row[\"technique\"] = technique\n",
    "            condition_row[\"trial_type\"] = trial_type\n",
    "            condition_row[f\"trial_time\"] = ttdfs[\"trial_time\"].mean()\n",
    "            # subject_row[f\"{technique}_{trial_type}_mean_num_attempts\"] = ttdfs[\"num_attempts\"].mean()\n",
    "            # subject_row[f\"{technique}_{trial_type}_mean_left_hand_distance_travelled\"] = ttdfs[\"left_hand_distance_travelled\"].mean()\n",
    "            # subject_row[f\"{technique}_{trial_type}_mean_right_hand_distance_travelled\"] = ttdfs[\"right_hand_distance_travelled\"].mean()\n",
    "    \n",
    "            condensed_df = pd.concat([condensed_df, pd.DataFrame(condition_row, index=[0])])\n",
    "\n",
    "condensed_df.to_csv(\"condensed_df.csv\", index=False)\n"
   ]
  },
  {
   "cell_type": "code",
   "execution_count": 13,
   "metadata": {},
   "outputs": [
    {
     "data": {
      "text/plain": [
       "<matplotlib.legend.Legend at 0x15614ddc0>"
      ]
     },
     "execution_count": 13,
     "metadata": {},
     "output_type": "execute_result"
    },
    {
     "data": {
      "image/png": "[encoded data removed]",
      "text/plain": [
       "<Figure size 432x288 with 1 Axes>"
      ]
     },
     "metadata": {},
     "output_type": "display_data"
    }
   ],
   "source": [
    "# plot condensed data\n",
    "ax = sns.barplot(\n",
    "    data=condensed_df, \n",
    "    x=\"trial_type\", \n",
    "    y=\"trial_time\", \n",
    "    hue=\"technique\", \n",
    "    hue_order=[o[0] for o in order], \n",
    "    order=[\"Search\", \"Repeat\"], \n",
    "    ci=95,\n",
    ")\n",
    "\n",
    "ax.legend(loc=\"lower left\")\n",
    "\n",
    "# set the hue labels\n",
    "handles, labels = ax.get_legend_handles_labels()\n",
    "labels = [o[1] for o in order]\n",
    "ax.legend(handles=handles[:], labels=labels[:])"
   ]
  },
  {
   "cell_type": "code",
   "execution_count": null,
   "metadata": {},
   "outputs": [],
   "source": [
    "# columns: technique, trial_type, trial_time"
   ]
  },
  {
   "cell_type": "code",
   "execution_count": null,
   "metadata": {},
   "outputs": [],
   "source": [
    "# from bioinfokit.analys import stat"
   ]
  },
  {
   "cell_type": "code",
   "execution_count": 14,
   "metadata": {},
   "outputs": [],
   "source": [
    "import statsmodels.api as sm\n",
    "from statsmodels.formula.api import ols"
   ]
  },
  {
   "cell_type": "code",
   "execution_count": 15,
   "metadata": {},
   "outputs": [
    {
     "data": {
      "text/html": [
       "<div>\n",
       "<style scoped>\n",
       "    .dataframe tbody tr th:only-of-type {\n",
       "        vertical-align: middle;\n",
       "    }\n",
       "\n",
       "    .dataframe tbody tr th {\n",
       "        vertical-align: top;\n",
       "    }\n",
       "\n",
       "    .dataframe thead th {\n",
       "        text-align: right;\n",
       "    }\n",
       "</style>\n",
       "<table border=\"1\" class=\"dataframe\">\n",
       "  <thead>\n",
       "    <tr style=\"text-align: right;\">\n",
       "      <th></th>\n",
       "      <th>sum_sq</th>\n",
       "      <th>df</th>\n",
       "      <th>F</th>\n",
       "      <th>PR(&gt;F)</th>\n",
       "    </tr>\n",
       "  </thead>\n",
       "  <tbody>\n",
       "    <tr>\n",
       "      <th>C(technique)</th>\n",
       "      <td>133.935380</td>\n",
       "      <td>3.0</td>\n",
       "      <td>12.833581</td>\n",
       "      <td>1.476563e-07</td>\n",
       "    </tr>\n",
       "    <tr>\n",
       "      <th>C(trial_type)</th>\n",
       "      <td>271.652201</td>\n",
       "      <td>1.0</td>\n",
       "      <td>78.088493</td>\n",
       "      <td>1.684504e-15</td>\n",
       "    </tr>\n",
       "    <tr>\n",
       "      <th>C(technique):C(trial_type)</th>\n",
       "      <td>19.932964</td>\n",
       "      <td>3.0</td>\n",
       "      <td>1.909961</td>\n",
       "      <td>1.300968e-01</td>\n",
       "    </tr>\n",
       "    <tr>\n",
       "      <th>Residual</th>\n",
       "      <td>556.603805</td>\n",
       "      <td>160.0</td>\n",
       "      <td>NaN</td>\n",
       "      <td>NaN</td>\n",
       "    </tr>\n",
       "  </tbody>\n",
       "</table>\n",
       "</div>"
      ],
      "text/plain": [
       "                                sum_sq     df          F        PR(>F)\n",
       "C(technique)                133.935380    3.0  12.833581  1.476563e-07\n",
       "C(trial_type)               271.652201    1.0  78.088493  1.684504e-15\n",
       "C(technique):C(trial_type)   19.932964    3.0   1.909961  1.300968e-01\n",
       "Residual                    556.603805  160.0        NaN           NaN"
      ]
     },
     "execution_count": 15,
     "metadata": {},
     "output_type": "execute_result"
    }
   ],
   "source": [
    "# perform two-way ANOVA\n",
    "model = ols('trial_time ~ C(technique) + C(trial_type) + C(technique):C(trial_type)', data=condensed_df).fit()\n",
    "sm.stats.anova_lm(model, typ=2)"
   ]
  },
  {
   "cell_type": "code",
   "execution_count": null,
   "metadata": {},
   "outputs": [],
   "source": [
    "# # just the cone and 2d\n",
    "# cone_2d_df = dfs_no_outliers_per_condition[dfs_no_outliers_per_condition[\"technique\"].isin([\"Flower\", \"OhMiniMap\"])]\n",
    "# print(len(cone_2d_df))\n",
    "\n",
    "# # perform two-way ANOVA\n",
    "# model = ols('trial_time ~ C(technique) + C(trial_type) + C(technique):C(trial_type)', data=cone_2d_df).fit()\n",
    "# sm.stats.anova_lm(model, typ=2)"
   ]
  },
  {
   "cell_type": "code",
   "execution_count": null,
   "metadata": {},
   "outputs": [],
   "source": [
    "# # just the cone and 2d for search\n",
    "# cone_2d_df = dfs_no_outliers_per_condition[dfs_no_outliers_per_condition[\"technique\"].isin([\"Flower\", \"OhMiniMap\"])]\n",
    "# cone_2d_df_search = cone_2d_df[cone_2d_df[\"trial_type\"] == \"Search\"]\n",
    "# print(len(cone_2d_df_search))\n",
    "\n",
    "# # perform two-way ANOVA\n",
    "# model = ols('trial_time ~ C(technique)', data=cone_2d_df_search).fit()\n",
    "# sm.stats.anova_lm(model, typ=1)"
   ]
  },
  {
   "cell_type": "code",
   "execution_count": null,
   "metadata": {},
   "outputs": [],
   "source": [
    "# # same test with 3d vs flower\n",
    "# cone_3d_df = dfs_no_outliers_per_condition[dfs_no_outliers_per_condition[\"technique\"].isin([\"Flower\", \"ThreeDMiniMap\"])]\n",
    "# cone_3d_df_search = cone_3d_df[cone_3d_df[\"trial_type\"] == \"Search\"]\n",
    "# print(len(cone_3d_df_search))\n",
    "\n",
    "# model = ols('trial_time ~ C(technique)', data=cone_3d_df_search).fit()\n",
    "# sm.stats.anova_lm(model, typ=1)"
   ]
  },
  {
   "cell_type": "code",
   "execution_count": null,
   "metadata": {},
   "outputs": [],
   "source": [
    "# rows are participants\n",
    "\n",
    "# technique trial_type trial_time\n",
    "# \n",
    "# \n",
    "# "
   ]
  },
  {
   "cell_type": "code",
   "execution_count": 16,
   "metadata": {},
   "outputs": [
    {
     "data": {
      "text/html": [
       "<div>\n",
       "<style scoped>\n",
       "    .dataframe tbody tr th:only-of-type {\n",
       "        vertical-align: middle;\n",
       "    }\n",
       "\n",
       "    .dataframe tbody tr th {\n",
       "        vertical-align: top;\n",
       "    }\n",
       "\n",
       "    .dataframe thead th {\n",
       "        text-align: right;\n",
       "    }\n",
       "</style>\n",
       "<table border=\"1\" class=\"dataframe\">\n",
       "  <thead>\n",
       "    <tr style=\"text-align: right;\">\n",
       "      <th></th>\n",
       "      <th>sum_sq</th>\n",
       "      <th>df</th>\n",
       "      <th>F</th>\n",
       "      <th>PR(&gt;F)</th>\n",
       "    </tr>\n",
       "  </thead>\n",
       "  <tbody>\n",
       "    <tr>\n",
       "      <th>C(technique)</th>\n",
       "      <td>7.898904</td>\n",
       "      <td>1.0</td>\n",
       "      <td>2.201082</td>\n",
       "      <td>1.418431e-01</td>\n",
       "    </tr>\n",
       "    <tr>\n",
       "      <th>C(trial_type)</th>\n",
       "      <td>151.765784</td>\n",
       "      <td>1.0</td>\n",
       "      <td>42.290552</td>\n",
       "      <td>6.280377e-09</td>\n",
       "    </tr>\n",
       "    <tr>\n",
       "      <th>C(technique):C(trial_type)</th>\n",
       "      <td>17.554529</td>\n",
       "      <td>1.0</td>\n",
       "      <td>4.891687</td>\n",
       "      <td>2.983927e-02</td>\n",
       "    </tr>\n",
       "    <tr>\n",
       "      <th>Residual</th>\n",
       "      <td>287.091614</td>\n",
       "      <td>80.0</td>\n",
       "      <td>NaN</td>\n",
       "      <td>NaN</td>\n",
       "    </tr>\n",
       "  </tbody>\n",
       "</table>\n",
       "</div>"
      ],
      "text/plain": [
       "                                sum_sq    df          F        PR(>F)\n",
       "C(technique)                  7.898904   1.0   2.201082  1.418431e-01\n",
       "C(trial_type)               151.765784   1.0  42.290552  6.280377e-09\n",
       "C(technique):C(trial_type)   17.554529   1.0   4.891687  2.983927e-02\n",
       "Residual                    287.091614  80.0        NaN           NaN"
      ]
     },
     "execution_count": 16,
     "metadata": {},
     "output_type": "execute_result"
    }
   ],
   "source": [
    "# stuff with condensed DF\n",
    "condensed_cone_2d_df = condensed_df[condensed_df[\"technique\"].isin([\"Flower\", \"OhMiniMap\"])]\n",
    "# condensed_cone_2d_df_search = condensed_cone_2d_df[condensed_cone_2d_df[\"trial_type\"] == \"Search\"]\n",
    "# print(len(condensed_cone_2d_df_search))\n",
    "\n",
    "# model = ols('trial_time ~ C(technique)', data=condensed_cone_2d_df_search).fit()\n",
    "# sm.stats.anova_lm(model, typ=1)\n",
    "\n",
    "# perform two-way ANOVA\n",
    "model = ols('trial_time ~ C(technique) + C(trial_type) + C(technique):C(trial_type)', data=condensed_cone_2d_df).fit()\n",
    "sm.stats.anova_lm(model, typ=2)"
   ]
  },
  {
   "cell_type": "code",
   "execution_count": 17,
   "metadata": {},
   "outputs": [
    {
     "data": {
      "text/html": [
       "<div>\n",
       "<style scoped>\n",
       "    .dataframe tbody tr th:only-of-type {\n",
       "        vertical-align: middle;\n",
       "    }\n",
       "\n",
       "    .dataframe tbody tr th {\n",
       "        vertical-align: top;\n",
       "    }\n",
       "\n",
       "    .dataframe thead th {\n",
       "        text-align: right;\n",
       "    }\n",
       "</style>\n",
       "<table border=\"1\" class=\"dataframe\">\n",
       "  <thead>\n",
       "    <tr style=\"text-align: right;\">\n",
       "      <th></th>\n",
       "      <th>sum_sq</th>\n",
       "      <th>df</th>\n",
       "      <th>F</th>\n",
       "      <th>PR(&gt;F)</th>\n",
       "    </tr>\n",
       "  </thead>\n",
       "  <tbody>\n",
       "    <tr>\n",
       "      <th>C(technique)</th>\n",
       "      <td>0.712760</td>\n",
       "      <td>1.0</td>\n",
       "      <td>0.183749</td>\n",
       "      <td>6.693233e-01</td>\n",
       "    </tr>\n",
       "    <tr>\n",
       "      <th>C(trial_type)</th>\n",
       "      <td>206.225698</td>\n",
       "      <td>1.0</td>\n",
       "      <td>53.164704</td>\n",
       "      <td>1.944525e-10</td>\n",
       "    </tr>\n",
       "    <tr>\n",
       "      <th>C(technique):C(trial_type)</th>\n",
       "      <td>4.616386</td>\n",
       "      <td>1.0</td>\n",
       "      <td>1.190098</td>\n",
       "      <td>2.785846e-01</td>\n",
       "    </tr>\n",
       "    <tr>\n",
       "      <th>Residual</th>\n",
       "      <td>310.319718</td>\n",
       "      <td>80.0</td>\n",
       "      <td>NaN</td>\n",
       "      <td>NaN</td>\n",
       "    </tr>\n",
       "  </tbody>\n",
       "</table>\n",
       "</div>"
      ],
      "text/plain": [
       "                                sum_sq    df          F        PR(>F)\n",
       "C(technique)                  0.712760   1.0   0.183749  6.693233e-01\n",
       "C(trial_type)               206.225698   1.0  53.164704  1.944525e-10\n",
       "C(technique):C(trial_type)    4.616386   1.0   1.190098  2.785846e-01\n",
       "Residual                    310.319718  80.0        NaN           NaN"
      ]
     },
     "execution_count": 17,
     "metadata": {},
     "output_type": "execute_result"
    }
   ],
   "source": [
    "# stuff with condensed DF\n",
    "condensed_cone_2d_df = condensed_df[condensed_df[\"technique\"].isin([\"Flower\", \"ThreeDMiniMap\"])]\n",
    "# condensed_cone_2d_df_search = condensed_cone_2d_df[condensed_cone_2d_df[\"trial_type\"] == \"Search\"]\n",
    "# print(len(condensed_cone_2d_df_search))\n",
    "\n",
    "# model = ols('trial_time ~ C(technique)', data=condensed_cone_2d_df_search).fit()\n",
    "# sm.stats.anova_lm(model, typ=1)\n",
    "\n",
    "# perform two-way ANOVA\n",
    "model = ols('trial_time ~ C(technique) + C(trial_type) + C(technique):C(trial_type)', data=condensed_cone_2d_df).fit()\n",
    "sm.stats.anova_lm(model, typ=2)"
   ]
  },
  {
   "cell_type": "code",
   "execution_count": 18,
   "metadata": {},
   "outputs": [
    {
     "name": "stdout",
     "output_type": "stream",
     "text": [
      "84\n"
     ]
    },
    {
     "data": {
      "text/html": [
       "<div>\n",
       "<style scoped>\n",
       "    .dataframe tbody tr th:only-of-type {\n",
       "        vertical-align: middle;\n",
       "    }\n",
       "\n",
       "    .dataframe tbody tr th {\n",
       "        vertical-align: top;\n",
       "    }\n",
       "\n",
       "    .dataframe thead th {\n",
       "        text-align: right;\n",
       "    }\n",
       "</style>\n",
       "<table border=\"1\" class=\"dataframe\">\n",
       "  <thead>\n",
       "    <tr style=\"text-align: right;\">\n",
       "      <th></th>\n",
       "      <th>sum_sq</th>\n",
       "      <th>df</th>\n",
       "      <th>F</th>\n",
       "      <th>PR(&gt;F)</th>\n",
       "    </tr>\n",
       "  </thead>\n",
       "  <tbody>\n",
       "    <tr>\n",
       "      <th>C(technique)</th>\n",
       "      <td>77.039364</td>\n",
       "      <td>1.0</td>\n",
       "      <td>22.867793</td>\n",
       "      <td>7.781747e-06</td>\n",
       "    </tr>\n",
       "    <tr>\n",
       "      <th>C(trial_type)</th>\n",
       "      <td>120.770548</td>\n",
       "      <td>1.0</td>\n",
       "      <td>35.848634</td>\n",
       "      <td>5.762183e-08</td>\n",
       "    </tr>\n",
       "    <tr>\n",
       "      <th>C(technique):C(trial_type)</th>\n",
       "      <td>1.494304</td>\n",
       "      <td>1.0</td>\n",
       "      <td>0.443558</td>\n",
       "      <td>5.073260e-01</td>\n",
       "    </tr>\n",
       "    <tr>\n",
       "      <th>Residual</th>\n",
       "      <td>269.512190</td>\n",
       "      <td>80.0</td>\n",
       "      <td>NaN</td>\n",
       "      <td>NaN</td>\n",
       "    </tr>\n",
       "  </tbody>\n",
       "</table>\n",
       "</div>"
      ],
      "text/plain": [
       "                                sum_sq    df          F        PR(>F)\n",
       "C(technique)                 77.039364   1.0  22.867793  7.781747e-06\n",
       "C(trial_type)               120.770548   1.0  35.848634  5.762183e-08\n",
       "C(technique):C(trial_type)    1.494304   1.0   0.443558  5.073260e-01\n",
       "Residual                    269.512190  80.0        NaN           NaN"
      ]
     },
     "execution_count": 18,
     "metadata": {},
     "output_type": "execute_result"
    }
   ],
   "source": [
    "# 3d vs gravity\n",
    "gravity_3d_df = condensed_df[condensed_df[\"technique\"].isin([\"ThreeDMiniMap\", \"GravityZone\"])]\n",
    "print(len(gravity_3d_df))\n",
    "\n",
    "# perform two-way ANOVA\n",
    "model = ols('trial_time ~ C(technique) + C(trial_type) + C(technique):C(trial_type)', data=gravity_3d_df).fit()\n",
    "sm.stats.anova_lm(model, typ=2)"
   ]
  },
  {
   "cell_type": "code",
   "execution_count": null,
   "metadata": {},
   "outputs": [],
   "source": []
  }
 ],
 "metadata": {
  "kernelspec": {
   "display_name": "Python 3.9.6 ('mps39')",
   "language": "python",
   "name": "python3"
  },
  "language_info": {
   "codemirror_mode": {
    "name": "ipython",
    "version": 3
   },
   "file_extension": ".py",
   "mimetype": "text/x-python",
   "name": "python",
   "nbconvert_exporter": "python",
   "pygments_lexer": "ipython3",
   "version": "3.9.6"
  },
  "orig_nbformat": 4,
  "vscode": {
   "interpreter": {
    "hash": "c6dc9c39fe004fdf6ef7a014d68605ce2c21b8e3d9f7da4a132739e3da17ac70"
   }
  }
 },
 "nbformat": 4,
 "nbformat_minor": 2
}
