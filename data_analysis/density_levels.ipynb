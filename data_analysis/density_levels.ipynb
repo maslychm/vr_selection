{
 "cells": [
  {
   "cell_type": "code",
   "execution_count": 1,
   "metadata": {},
   "outputs": [],
   "source": [
    "import pandas as pd\n",
    "import numpy as np\n",
    "import matplotlib.pyplot as plt\n",
    "import seaborn as sns\n",
    "\n",
    "sns.set_theme(style=\"whitegrid\")"
   ]
  },
  {
   "attachments": {},
   "cell_type": "markdown",
   "metadata": {},
   "source": [
    "## Load and Pre-Process"
   ]
  },
  {
   "cell_type": "code",
   "execution_count": 2,
   "metadata": {},
   "outputs": [],
   "source": [
    "order = [\n",
    "    [\"Flower\", \"ConeExpand\"],\n",
    "    [\"OhMiniMap\", \"2DMiniMap+\"],\n",
    "    [\"ThreeDMiniMap\", \"3DMiniMap\"],\n",
    "    [\"GravityZone\", \"GravityZone+\"],\n",
    "]"
   ]
  },
  {
   "cell_type": "code",
   "execution_count": 3,
   "metadata": {},
   "outputs": [
    {
     "name": "stdout",
     "output_type": "stream",
     "text": [
      "Number of rows: 2880\n"
     ]
    }
   ],
   "source": [
    "####################################################################################################\n",
    "# pre-process\n",
    "\n",
    "original_csv_links = [\n",
    "    \"/Users/maslychm/projects/vr_selection/Assets/StreamingAssets/density_data/sr_sub2_1665156140.csv\",\n",
    "    \"/Users/maslychm/projects/vr_selection/Assets/StreamingAssets/density_data/sr_sub3_1665169118.csv\",\n",
    "    \"/Users/maslychm/projects/vr_selection/Assets/StreamingAssets/density_data/sr_sub4_1665171433.csv\",\n",
    "    \"/Users/maslychm/projects/vr_selection/Assets/StreamingAssets/density_data/sr_sub5_1665177450.csv\",\n",
    "    \"/Users/maslychm/projects/vr_selection/Assets/StreamingAssets/density_data/sr_sub6_1665181701.csv\",\n",
    "    \"/Users/maslychm/projects/vr_selection/Assets/StreamingAssets/density_data/sr_sub7_1665429371.csv\",\n",
    "    \"/Users/maslychm/projects/vr_selection/Assets/StreamingAssets/density_data/sr_sub8_1665435287.csv\",\n",
    "    \"/Users/maslychm/projects/vr_selection/Assets/StreamingAssets/density_data/sr_sub9_1665447708.csv\",\n",
    "    \"/Users/maslychm/projects/vr_selection/Assets/StreamingAssets/density_data/sr_sub10_1665494513.csv\",\n",
    "    \"/Users/maslychm/projects/vr_selection/Assets/StreamingAssets/density_data/sr_sub11_1665499310.csv\",\n",
    "    \"/Users/maslychm/projects/vr_selection/Assets/StreamingAssets/density_data/sr_sub12_1665522669.csv\",\n",
    "    \"/Users/maslychm/projects/vr_selection/Assets/StreamingAssets/density_data/sr_sub13_1665531443.csv\",\n",
    "    \"/Users/maslychm/projects/vr_selection/Assets/StreamingAssets/density_data/sr_sub14_1665584720.csv\",\n",
    "    \"/Users/maslychm/projects/vr_selection/Assets/StreamingAssets/density_data/sr_sub15_1665591432.csv\",\n",
    "    \"/Users/maslychm/projects/vr_selection/Assets/StreamingAssets/density_data/sr_sub16_1665620373.csv\",\n",
    "    \"/Users/maslychm/projects/vr_selection/Assets/StreamingAssets/density_data/sr_sub17_1665623547.csv\",\n",
    "    \"/Users/maslychm/projects/vr_selection/Assets/StreamingAssets/density_data/sr_sub18_1665671006.csv\",\n",
    "    \"/Users/maslychm/projects/vr_selection/Assets/StreamingAssets/density_data/sr_sub19_1665677719.csv\",\n",
    "    \"/Users/maslychm/projects/vr_selection/Assets/StreamingAssets/density_data/sr_sub20_1665682149.csv\",\n",
    "    \"/Users/maslychm/projects/vr_selection/Assets/StreamingAssets/density_data/sr_sub21_1665688623.csv\",\n",
    "    \"/Users/maslychm/projects/vr_selection/Assets/StreamingAssets/density_data/sr_sub22_1665701569.csv\",\n",
    "    \"/Users/maslychm/projects/vr_selection/Assets/StreamingAssets/density_data/sr_sub23_1666893821.csv\",\n",
    "    \"/Users/maslychm/projects/vr_selection/Assets/StreamingAssets/density_data/sr_sub24_1667230835.csv\",\n",
    "    \"/Users/maslychm/projects/vr_selection/Assets/StreamingAssets/density_data/sr_sub25_1669269150.csv\"\n",
    "]\n",
    "\n",
    "assert len(original_csv_links) == len(list(set(original_csv_links)))\n",
    "\n",
    "csv_root = \"/Users/maslychm/projects/vr_selection/density_data/\"\n",
    "processed_csv_links = []\n",
    "for link in original_csv_links:\n",
    "    df = pd.read_csv(link)\n",
    "\n",
    "    # set global trial index between 1 and 120 (30 trials per density level)\n",
    "    df[\"global_trial_idx\"] = pd.Series(range(1, 121))\n",
    "    \n",
    "    # change density levels to strings\n",
    "    df[\"density\"] = df[\"density\"].replace({1: \"low\", 2: \"medium\", 3: \"high\"})\n",
    "\n",
    "    df.replace(order[0][0], order[0][1], inplace=True)\n",
    "    df.replace(order[1][0], order[1][1], inplace=True)\n",
    "    df.replace(order[2][0], order[2][1], inplace=True)\n",
    "    df.replace(order[3][0], order[3][1], inplace=True)\n",
    "\n",
    "    df[\"technique\"] = df[\"technique\"].replace({o[0]: o[1] for o in order})\n",
    "\n",
    "    # format subject id\n",
    "    sub_idx = link.split(\"sub\")[-1].split(\"_\")[0]\n",
    "    \n",
    "    processed_csv_link = csv_root + \"sub_\" + sub_idx + \".csv\"\n",
    "    df.to_csv(processed_csv_link, index=False)\n",
    "    processed_csv_links.append(processed_csv_link)\n",
    "\n",
    "del df\n",
    "\n",
    "####################################################################################################\n",
    "# load data\n",
    "\n",
    "dataframes = [pd.read_csv(link) for link in processed_csv_links]\n",
    "dfs = pd.concat(dataframes)\n",
    "\n",
    "# drop trials where number of attemps is more than 1\n",
    "# dfs = dfs[dfs[\"num_attempts\"] == 1]\n",
    "\n",
    "## TODO REMOVE ALL FIRST TRIALS PER TECHNIQUE\n",
    "\n",
    "# drop rows where trial_time is over 20\n",
    "# dfs = dfs[dfs[\"trial_time\"] < 23]\n",
    "\n",
    "# drop above 3 sdtev\n",
    "# dfs = dfs[dfs[\"trial_time\"] < dfs[\"trial_time\"].mean() + 3 * dfs[\"trial_time\"].std()]\n",
    "\n",
    "dfs = dfs.reset_index()\n",
    "\n",
    "# pre-process global trial index: mod global_trial_idx by 31\n",
    "# dfs[\"global_trial_idx\"] = dfs[\"global_trial_idx\"] % 31\n",
    "\n",
    "print(f\"Number of rows: {len(dfs)}\")\n",
    "\n",
    "dfs.to_csv(\"all.csv\", index=False)"
   ]
  },
  {
   "cell_type": "code",
   "execution_count": 9,
   "metadata": {},
   "outputs": [],
   "source": [
    "# dfs"
   ]
  },
  {
   "cell_type": "code",
   "execution_count": 125,
   "metadata": {},
   "outputs": [],
   "source": [
    "# # count number of trials with more than 1 attempt per condition\n",
    "# for technique in dfs.technique.unique():\n",
    "#     for trial_type in dfs.trial_type.unique():\n",
    "        \n",
    "#         # num attempts above 1\n",
    "#         more_attempts_df = dfs[(dfs[\"technique\"] == technique) & (dfs[\"trial_type\"] == trial_type)]\n",
    "#         more_attempts_df = more_attempts_df[more_attempts_df[\"num_attempts\"] > 1][\"num_attempts\"]\n",
    "#         print(technique, trial_type, more_attempts_df.count())"
   ]
  },
  {
   "cell_type": "code",
   "execution_count": 10,
   "metadata": {},
   "outputs": [],
   "source": [
    "# ax = sns.catplot(data=dfs, x=\"trial_type\", y=\"trial_time\", col=\"technique\", kind=\"violin\", showfliers=False)"
   ]
  },
  {
   "attachments": {},
   "cell_type": "markdown",
   "metadata": {},
   "source": [
    "## Remove outliers per-technique-per-trial-type-per-density"
   ]
  },
  {
   "cell_type": "code",
   "execution_count": 6,
   "metadata": {},
   "outputs": [
    {
     "name": "stdout",
     "output_type": "stream",
     "text": [
      "2845\n",
      "diff =  35\n",
      "diff =  1.215277777777778 %\n"
     ]
    }
   ],
   "source": [
    "# remove outliers per-techique per-trial-type per-density-level.\n",
    "# this is NOT based on participants, but all participant's performance per condition\n",
    "\n",
    "dfs_no_outliers_per_condition = pd.DataFrame()\n",
    "\n",
    "for technique in dfs.technique.unique():\n",
    "    tdfs = dfs[dfs[\"technique\"] == technique]\n",
    "\n",
    "    for trial_type in tdfs.trial_type.unique():\n",
    "        ttdfs = tdfs[tdfs[\"trial_type\"] == trial_type]\n",
    "\n",
    "        for density in ttdfs.density.unique():\n",
    "            dttdfs = ttdfs[ttdfs[\"density\"] == density]\n",
    "\n",
    "            # drop outliers which are above 3 standard deviations for trial time\n",
    "            mean, stdev = dttdfs[\"trial_time\"].mean(), dttdfs[\"trial_time\"].std()\n",
    "            cleandfs = dttdfs[dttdfs[\"trial_time\"] < mean + 4 * stdev]\n",
    "            dfs_no_outliers_per_condition = pd.concat([dfs_no_outliers_per_condition, cleandfs])\n",
    "\n",
    "print(len(dfs_no_outliers_per_condition))\n",
    "\n",
    "print(\"diff = \", len(dfs) - len(dfs_no_outliers_per_condition))\n",
    "print(\"diff = \", (len(dfs) - len(dfs_no_outliers_per_condition)) / len(dfs) * 100, \"%\")\n",
    "\n",
    "dfs_no_outliers_per_condition.to_csv(\"clean.csv\", index=False)"
   ]
  },
  {
   "cell_type": "code",
   "execution_count": 8,
   "metadata": {},
   "outputs": [],
   "source": [
    "# dfs_no_outliers_per_condition"
   ]
  },
  {
   "cell_type": "code",
   "execution_count": 88,
   "metadata": {},
   "outputs": [],
   "source": [
    "# # inspect before organizing by participant\n",
    "# ax = sns.barplot(\n",
    "#     data=dfs_no_outliers_per_condition, \n",
    "#     x=\"trial_type\", \n",
    "#     y=\"trial_time\", \n",
    "#     hue=\"technique\",\n",
    "#     hue_order=[o[0] for o in order],\n",
    "#     order=[\"Search\", \"Repeat\"],\n",
    "#     ci=95,\n",
    "# )\n",
    "\n",
    "# handles, labels = ax.get_legend_handles_labels()\n",
    "# labels = [o[1] for o in order]\n",
    "# ax.legend(loc=\"lower left\", handles=handles[:], labels=labels[:])"
   ]
  },
  {
   "attachments": {},
   "cell_type": "markdown",
   "metadata": {},
   "source": [
    "## (Optional) Condense multiple trials per condition down to a single line\n",
    "We have: trial type (2), technique type (4), density level (3) X num_participants (24), which means\n",
    "we will have 2 * 4 * 3 * 24 rows = 576 rows"
   ]
  },
  {
   "cell_type": "code",
   "execution_count": 14,
   "metadata": {},
   "outputs": [
    {
     "data": {
      "text/plain": [
       "'This is commented out because it can be achieved by using the `groupby` method with `reset_index` at the end.'"
      ]
     },
     "execution_count": 14,
     "metadata": {},
     "output_type": "execute_result"
    }
   ],
   "source": [
    "\"\"\"This is commented out because it can be achieved by using the `groupby` method with `reset_index` at the end.\"\"\"\n",
    "\n",
    "# new_rows = []\n",
    "# for technique in dfs_no_outliers_per_condition.technique.unique():\n",
    "#     for trial_type in dfs_no_outliers_per_condition.trial_type.unique():\n",
    "#         for density in dfs_no_outliers_per_condition.density.unique():\n",
    "#             for sub in dfs_no_outliers_per_condition.subject_id.unique():\n",
    "#                 df = dfs_no_outliers_per_condition[\n",
    "#                     (dfs_no_outliers_per_condition[\"technique\"] == technique) & \n",
    "#                     (dfs_no_outliers_per_condition[\"trial_type\"] == trial_type) & \n",
    "#                     (dfs_no_outliers_per_condition[\"density\"] == density) &\n",
    "#                     (dfs_no_outliers_per_condition[\"subject_id\"] == sub)\n",
    "#                 ]\n",
    "\n",
    "#                 new_row = {\n",
    "#                     \"technique\": technique,\n",
    "#                     \"trial_type\": trial_type,\n",
    "#                     \"density\": density,\n",
    "#                     \"subject_id\": sub,\n",
    "#                     \"trial_time\": df[\"trial_time\"].mean(),\n",
    "#                 }\n",
    "#                 new_rows.append(new_row)\n",
    "\n",
    "# dfs_no_outliers_per_condition = pd.DataFrame(new_rows)\n",
    "\n",
    "# dfs_no_outliers_per_condition.replace(order[0][0], order[0][1], inplace=True)\n",
    "# dfs_no_outliers_per_condition.replace(order[1][0], order[1][1], inplace=True)\n",
    "# dfs_no_outliers_per_condition.replace(order[2][0], order[2][1], inplace=True)\n",
    "# dfs_no_outliers_per_condition.replace(order[3][0], order[3][1], inplace=True)\n",
    "\n",
    "# print(len(dfs_no_outliers_per_condition))"
   ]
  },
  {
   "cell_type": "code",
   "execution_count": 114,
   "metadata": {},
   "outputs": [],
   "source": [
    "# dfs_no_outliers_per_condition"
   ]
  },
  {
   "attachments": {},
   "cell_type": "markdown",
   "metadata": {},
   "source": [
    "## Plot the first graph with two trial types and 4 techniques"
   ]
  },
  {
   "cell_type": "code",
   "execution_count": 30,
   "metadata": {},
   "outputs": [
    {
     "data": {
      "image/png": "[encoded data removed]",
      "text/plain": [
       "<Figure size 504x360 with 1 Axes>"
      ]
     },
     "metadata": {},
     "output_type": "display_data"
    }
   ],
   "source": [
    "# need to group by [subject, technique, trial_type]\n",
    "technique_type_df = dfs_no_outliers_per_condition.groupby([\"subject_id\", \"technique\", \"trial_type\"]).mean().reset_index()\n",
    "\n",
    "fig, ax = plt.subplots(figsize=(7, 5))\n",
    "\n",
    "# plot condensed data\n",
    "sns.barplot(\n",
    "    data=technique_type_df,\n",
    "    x=\"trial_type\",\n",
    "    y=\"trial_time\", \n",
    "    hue=\"technique\", \n",
    "    hue_order=[o[1] for o in order], \n",
    "    order=[\"Search\", \"Repeat\"], \n",
    "    ci=95,\n",
    "    ax=ax,\n",
    "    capsize=0.04,\n",
    ")\n",
    "\n",
    "handles, labels = ax.get_legend_handles_labels()\n",
    "labels = [o[1] for o in order]\n",
    "ax.legend(handles=handles[:], labels=labels[:], loc=\"lower left\", fontsize=12)\n",
    "# ax.legend(fontsize=5, loc=\"lower left\")\n",
    "\n",
    "# set axis font size\n",
    "ax.tick_params(axis='both', which='major', labelsize=14)\n",
    "\n",
    "# set outer labels\n",
    "ax.set_xlabel(\"Trial Type\", fontsize=14)\n",
    "ax.set_ylabel(\"Trial Time (s)\", fontsize=14)\n",
    "\n",
    "fig.tight_layout()\n",
    "\n",
    "fig.savefig(\"trial_time_by_condition.pdf\", bbox_inches=\"tight\")"
   ]
  },
  {
   "attachments": {},
   "cell_type": "markdown",
   "metadata": {},
   "source": [
    "## Plot the second graph with columns for density levels"
   ]
  },
  {
   "cell_type": "code",
   "execution_count": 44,
   "metadata": {},
   "outputs": [
    {
     "data": {
      "image/png": "[encoded data removed]",
      "text/plain": [
       "<Figure size 970.225x288 with 3 Axes>"
      ]
     },
     "metadata": {},
     "output_type": "display_data"
    }
   ],
   "source": [
    "technique_type_density_df = dfs_no_outliers_per_condition.groupby([\"subject_id\", \"technique\", \"trial_type\", \"density\"]).mean().reset_index()\n",
    "\n",
    "g = sns.catplot(\n",
    "    data=technique_type_density_df,\n",
    "    x=\"trial_type\",\n",
    "    y=\"trial_time\",\n",
    "    hue=\"technique\",\n",
    "    col=\"density\",\n",
    "    kind=\"bar\",\n",
    "    ci=95,\n",
    "    height=4,\n",
    "    aspect=1,\n",
    "    # sharey=True,\n",
    "    hue_order=[o[1] for o in order],\n",
    "    order=[\"Search\", \"Repeat\"],\n",
    "    col_order=[\"low\", \"medium\", \"high\"],\n",
    "    capsize=0.03,\n",
    ")\n",
    "g.set_axis_labels(\"\", \"Trial Time (s)\")\n",
    "\n",
    "# set legend font size\n",
    "g.legend.set_title(\"Selection Technique\")\n",
    "plt.setp(g.legend.get_texts(), fontsize='12')\n",
    "\n",
    "g.tight_layout()\n",
    "\n",
    "g.savefig(\"trial_time_by_condition_and_density.pdf\", bbox_inches=\"tight\", dpi=150)"
   ]
  },
  {
   "attachments": {},
   "cell_type": "markdown",
   "metadata": {},
   "source": [
    "## Condense down where rows are participants and columns are conditions"
   ]
  },
  {
   "cell_type": "code",
   "execution_count": 47,
   "metadata": {},
   "outputs": [],
   "source": [
    "# organize data: rows are partcipants, colums are combinations of conditions\n",
    "\n",
    "condensed_df = pd.DataFrame()\n",
    "\n",
    "for subject in dfs_no_outliers_per_condition.subject_id.unique():\n",
    "\n",
    "    subject_row = dict()\n",
    "    subject_row[\"subject_id\"] = subject\n",
    "\n",
    "    sdfs = dfs_no_outliers_per_condition[dfs_no_outliers_per_condition[\"subject_id\"] == subject]\n",
    "\n",
    "    for technique in sdfs.technique.unique():\n",
    "        tdfs = sdfs[sdfs[\"technique\"] == technique]\n",
    "\n",
    "        for trial_type in tdfs.trial_type.unique():\n",
    "\n",
    "            ttdfs = tdfs[tdfs[\"trial_type\"] == trial_type]\n",
    "\n",
    "            for density_level in sdfs.density.unique():\n",
    "                dttdfs = ttdfs[ttdfs[\"density\"] == density_level]\n",
    "\n",
    "                subject_row[technique + \"_\" + trial_type + \"_\" + str(density_level)] = dttdfs[\"trial_time\"].mean()\n",
    "    \n",
    "    condensed_df = pd.concat([condensed_df, pd.DataFrame(subject_row, index=[0])])\n",
    "\n",
    "condensed_df.to_csv(\"condensed_df.csv\", index=False)"
   ]
  },
  {
   "cell_type": "code",
   "execution_count": 49,
   "metadata": {},
   "outputs": [],
   "source": [
    "# condensed_df"
   ]
  },
  {
   "attachments": {},
   "cell_type": "markdown",
   "metadata": {},
   "source": [
    "## Some stats"
   ]
  },
  {
   "cell_type": "code",
   "execution_count": null,
   "metadata": {},
   "outputs": [],
   "source": [
    "import statsmodels.api as sm\n",
    "import statsmodels.stats as stats\n",
    "from statsmodels.formula.api import ols"
   ]
  },
  {
   "cell_type": "code",
   "execution_count": null,
   "metadata": {},
   "outputs": [],
   "source": [
    "# # perform two-way ANOVA\n",
    "# model = ols('trial_time ~ C(technique) + C(density) + C(trial_type) + C(technique):C(trial_type) + C(technique):C(density) + C(density):C(trial_type)', data=condensed_df).fit()\n",
    "# sm.stats.anova_lm(model, typ=3)\n",
    "\n",
    "# # do 2 separate two way for trial types\n",
    "\n",
    "# # TODO run t tests on anova results with bonferroni correction"
   ]
  },
  {
   "cell_type": "code",
   "execution_count": null,
   "metadata": {},
   "outputs": [],
   "source": [
    "# ANOVA with search only\n",
    "condensed_search = condensed_df[condensed_df[\"trial_type\"] == \"Search\"]\n",
    "model = ols('trial_time ~ C(technique) + C(density) + C(technique):C(density)', data=condensed_search).fit()\n",
    "sm.stats.anova_lm(model, typ=2)"
   ]
  },
  {
   "cell_type": "code",
   "execution_count": null,
   "metadata": {},
   "outputs": [],
   "source": [
    "# res = ols(\"trial_time ~ C(technique)\", data=condensed_search).fit()\n",
    "# pw = res.t_test_pairwise(\"C(technique)\", method=\"bonferroni\")\n",
    "# pw.result_frame\n",
    "\n",
    "# res = ols(\"trial_time ~ C(technique) + C(density)\", data=condensed_search).fit()\n",
    "# pw = res.t_test_pairwise(\"C(technique)\", method=\"bonferroni\")\n",
    "# pw.result_frame\n",
    "\n",
    "# for level in condensed_search.density.unique():\n",
    "#     print(level)\n",
    "#     res = ols(\"trial_time ~ C(technique)\", data=condensed_search[condensed_search[\"density\"] == level]).fit()\n",
    "#     pw = res.t_test_pairwise(\"C(technique)\", method=\"bonferroni\")\n",
    "#     print(pw.result_frame)\n",
    "\n",
    "res = ols(\"trial_time ~ C(density)\", data=condensed_search).fit()\n",
    "pw = res.t_test_pairwise(\"C(density)\", method=\"bonferroni\")\n",
    "pw.result_frame"
   ]
  },
  {
   "cell_type": "code",
   "execution_count": null,
   "metadata": {},
   "outputs": [],
   "source": [
    "# res = ols(\"trial_time ~ C(technique) + C(density)\", data=condensed_search).fit()\n",
    "# pw = res.t_test_pairwise(\"C(density)\", method=\"bonferroni\")\n",
    "# pw.result_frame"
   ]
  },
  {
   "cell_type": "code",
   "execution_count": null,
   "metadata": {},
   "outputs": [],
   "source": [
    "# ANOVA with repeat only\n",
    "condensed_repeat = condensed_df[condensed_df[\"trial_type\"] == \"Repeat\"]\n",
    "model = ols('trial_time ~ C(technique) + C(density) + C(technique):C(density)', data=condensed_repeat).fit()\n",
    "sm.stats.anova_lm(model, typ=2)"
   ]
  },
  {
   "cell_type": "code",
   "execution_count": null,
   "metadata": {},
   "outputs": [],
   "source": [
    "# res = ols(\"trial_time ~ C(technique) + C(density)\", data=condensed_repeat).fit()\n",
    "# pw = res.t_test_pairwise(\"C(technique)\", method=\"bonferroni\")\n",
    "# pw.result_frame"
   ]
  },
  {
   "cell_type": "code",
   "execution_count": null,
   "metadata": {},
   "outputs": [],
   "source": [
    "res = ols(\"trial_time ~ C(density)\", data=condensed_repeat).fit()\n",
    "pw = res.t_test_pairwise(\"C(density)\", method=\"bonferroni\")\n",
    "pw.result_frame"
   ]
  },
  {
   "cell_type": "code",
   "execution_count": null,
   "metadata": {},
   "outputs": [],
   "source": [
    "from scipy.stats import f_oneway, ttest_ind, kstest"
   ]
  },
  {
   "cell_type": "code",
   "execution_count": null,
   "metadata": {},
   "outputs": [],
   "source": [
    "# level = 1\n",
    "# leveldf = condensed_df[condensed_df[\"density\"] == level]\n",
    "\n",
    "# flower = leveldf[leveldf[\"technique\"] == \"Flower\"][\"trial_time\"]\n",
    "# gravity_zone = leveldf[leveldf[\"technique\"] == \"GravityZone\"][\"trial_time\"]\n",
    "# oh_minimap = leveldf[leveldf[\"technique\"] == \"OhMiniMap\"][\"trial_time\"]\n",
    "# td_minimap = leveldf[leveldf[\"technique\"] == \"ThreeDMiniMap\"][\"trial_time\"]\n",
    "\n",
    "# # one-way anova\n",
    "# res = f_oneway(flower, gravity_zone, oh_minimap, td_minimap)\n",
    "# print(res)\n",
    "\n",
    "# # pairwise t-tests\n",
    "# res = ttest_ind(flower, gravity_zone)\n",
    "# print(\"flower, gravity:\", res)\n",
    "\n",
    "# res = ttest_ind(flower, oh_minimap)\n",
    "# print(\"flower, oh:\", res)\n",
    "\n",
    "# res = ttest_ind(flower, td_minimap)\n",
    "# print(\"flower, td:\", res)\n",
    "\n",
    "# res = ttest_ind(gravity_zone, oh_minimap)\n",
    "# print(\"gravity, oh:\", res)\n",
    "\n",
    "# res = ttest_ind(gravity_zone, td_minimap)\n",
    "# print(\"gravity, td:\", res)\n",
    "\n",
    "# res = ttest_ind(oh_minimap, td_minimap)\n",
    "# print(\"oh, td:\", res)"
   ]
  },
  {
   "cell_type": "code",
   "execution_count": null,
   "metadata": {},
   "outputs": [],
   "source": [
    "# loop t-tests over all levels\n",
    "\n",
    "for task in condensed_df.trial_type.unique():\n",
    "\n",
    "    print()\n",
    "    print(task)\n",
    "\n",
    "    for level in condensed_df.density.unique():\n",
    "        leveldf = condensed_df[condensed_df[\"density\"] == level]\n",
    "\n",
    "        flower = leveldf[leveldf[\"technique\"] == \"ConeExpand\"][\"trial_time\"]\n",
    "        # gravity_zone = leveldf[leveldf[\"technique\"] == \"GravityZone\"][\"trial_time\"]\n",
    "        oh_minimap = leveldf[leveldf[\"technique\"] == \"2DMiniMap+\"][\"trial_time\"]\n",
    "        # td_minimap = leveldf[leveldf[\"technique\"] == \"3DMiniMap\"][\"trial_time\"]\n",
    "\n",
    "        # # normality test using kstest\n",
    "        # print(\"ConeExpand is normal? \", kstest(flower, \"norm\").pvalue < 0.05)\n",
    "        # print(\"GravityZone is normal? \", kstest(gravity_zone, \"norm\").pvalue < 0.05)\n",
    "        # print(\"2DMiniMap+ is normal? \", kstest(oh_minimap, \"norm\").pvalue < 0.05)\n",
    "        # print(\"3DMiniMap is normal? \", kstest(td_minimap, \"norm\").pvalue < 0.05)\n",
    "\n",
    "        # continue\n",
    "\n",
    "        techniques_vals = {\n",
    "            \"ConeExpand\": flower,\n",
    "            # \"GravityZone\": gravity_zone,\n",
    "            \"2DMiniMap+\": oh_minimap,\n",
    "            # \"3DMiniMap\": td_minimap,\n",
    "        }\n",
    "\n",
    "        print()\n",
    "        print(\"Level: \", level)\n",
    "\n",
    "        # # one-way anova\n",
    "        # res = f_oneway(flower, gravity_zone, oh_minimap, td_minimap)\n",
    "        # print(res)\n",
    "\n",
    "        # pairwise t-tests\n",
    "        for tv in techniques_vals:\n",
    "            for tv2 in techniques_vals:\n",
    "                \n",
    "                if tv in [\"ConeExpand\", \"GravityZone\"] and tv2 in [\"ConeExpand\", \"GravityZone\"]:\n",
    "                    continue\n",
    "\n",
    "                if tv != tv2:\n",
    "                    res = ttest_ind(techniques_vals[tv], techniques_vals[tv2])\n",
    "                    if res.pvalue >= 0.05:\n",
    "                        continue\n",
    "                    print(f\"{tv}, {tv2}:\".ljust(30), res.statistic, res.pvalue, res.pvalue < 0.05)"
   ]
  },
  {
   "cell_type": "code",
   "execution_count": null,
   "metadata": {},
   "outputs": [],
   "source": [
    "for task in condensed_df.trial_type.unique():\n",
    "\n",
    "    print()\n",
    "    print(task)\n",
    "\n",
    "    # t tests for each level agains the other levels\n",
    "    level1 = condensed_df[(condensed_df[\"density\"] == 1) & (condensed_df[\"trial_type\"] == task)]\n",
    "    level2 = condensed_df[(condensed_df[\"density\"] == 2) & (condensed_df[\"trial_type\"] == task)]\n",
    "    level3 = condensed_df[(condensed_df[\"density\"] == 3) & (condensed_df[\"trial_type\"] == task)]\n",
    "\n",
    "    # level1 vs level2\n",
    "    res = ttest_ind(level1[\"trial_time\"], level2[\"trial_time\"])\n",
    "    print(\"level1 vs level2:\", res.statistic, res.pvalue, res.pvalue < 0.05)\n",
    "\n",
    "    # level1 vs level3\n",
    "    res = ttest_ind(level1[\"trial_time\"], level3[\"trial_time\"])\n",
    "    print(\"level1 vs level3:\", res.statistic, res.pvalue, res.pvalue < 0.05)\n",
    "\n",
    "    # level2 vs level3\n",
    "    res = ttest_ind(level2[\"trial_time\"], level3[\"trial_time\"])\n",
    "    print(\"level2 vs level3:\", res.statistic, res.pvalue, res.pvalue < 0.05)\n",
    "\n",
    "    print()\n",
    "\n",
    "    # t tests for each technique agains the other techniques\n",
    "    cone_expand = condensed_df[(condensed_df[\"technique\"] == \"ConeExpand\") & (condensed_df[\"trial_type\"] == task)]\n",
    "    gravity_zone = condensed_df[(condensed_df[\"technique\"] == \"GravityZone\") & (condensed_df[\"trial_type\"] == task)]\n",
    "    oh_minimap = condensed_df[(condensed_df[\"technique\"] == \"2DMiniMap+\") & (condensed_df[\"trial_type\"] == task)]\n",
    "    td_minimap = condensed_df[(condensed_df[\"technique\"] == \"3DMiniMap\") & (condensed_df[\"trial_type\"] == task)]\n",
    "\n",
    "    # cone_expand vs gravity_zone\n",
    "    res = ttest_ind(cone_expand[\"trial_time\"], gravity_zone[\"trial_time\"])\n",
    "    print(\"cone_expand vs gravity_zone:\", res.statistic, res.pvalue, res.pvalue < 0.05)\n",
    "\n",
    "    # cone_expand vs oh_minimap\n",
    "    res = ttest_ind(cone_expand[\"trial_time\"], oh_minimap[\"trial_time\"])\n",
    "    print(\"cone_expand vs oh_minimap:\", res.statistic, res.pvalue, res.pvalue < 0.05)\n",
    "\n",
    "    # cone_expand vs td_minimap\n",
    "    res = ttest_ind(cone_expand[\"trial_time\"], td_minimap[\"trial_time\"])\n",
    "    print(\"cone_expand vs td_minimap:\", res.statistic, res.pvalue, res.pvalue < 0.05)\n",
    "\n",
    "    # gravity_zone vs oh_minimap\n",
    "    res = ttest_ind(gravity_zone[\"trial_time\"], oh_minimap[\"trial_time\"])\n",
    "    print(\"gravity_zone vs oh_minimap:\", res.statistic, res.pvalue, res.pvalue < 0.05)\n",
    "\n",
    "    # gravity_zone vs td_minimap\n",
    "    res = ttest_ind(gravity_zone[\"trial_time\"], td_minimap[\"trial_time\"])\n",
    "    print(\"gravity_zone vs td_minimap:\", res.statistic, res.pvalue, res.pvalue < 0.05)\n",
    "\n",
    "    # oh_minimap vs td_minimap\n",
    "    res = ttest_ind(oh_minimap[\"trial_time\"], td_minimap[\"trial_time\"])\n",
    "    print(\"oh_minimap vs td_minimap:\", res.statistic, res.pvalue, res.pvalue < 0.05)"
   ]
  },
  {
   "cell_type": "code",
   "execution_count": 18,
   "metadata": {},
   "outputs": [],
   "source": [
    "search_times = dfs[dfs[\"trial_type\"] == \"Search\"][\"trial_time\"]\n",
    "repeat_times = dfs[dfs[\"trial_type\"] == \"Repeat\"][\"trial_time\"]"
   ]
  },
  {
   "cell_type": "code",
   "execution_count": null,
   "metadata": {},
   "outputs": [],
   "source": []
  }
 ],
 "metadata": {
  "kernelspec": {
   "display_name": "Python 3.9.6 ('mps39')",
   "language": "python",
   "name": "python3"
  },
  "language_info": {
   "codemirror_mode": {
    "name": "ipython",
    "version": 3
   },
   "file_extension": ".py",
   "mimetype": "text/x-python",
   "name": "python",
   "nbconvert_exporter": "python",
   "pygments_lexer": "ipython3",
   "version": "3.9.6"
  },
  "orig_nbformat": 4,
  "vscode": {
   "interpreter": {
    "hash": "c6dc9c39fe004fdf6ef7a014d68605ce2c21b8e3d9f7da4a132739e3da17ac70"
   }
  }
 },
 "nbformat": 4,
 "nbformat_minor": 2
}
