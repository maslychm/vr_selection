{
 "cells": [
  {
   "cell_type": "code",
   "execution_count": 7,
   "metadata": {},
   "outputs": [],
   "source": [
    "import pandas as pd\n",
    "import numpy as np\n",
    "import matplotlib.pyplot as plt\n",
    "import seaborn as sns\n",
    "\n",
    "# sns.set_style('whitegrid')\n",
    "sns.set_theme(style=\"whitegrid\")"
   ]
  },
  {
   "cell_type": "code",
   "execution_count": 8,
   "metadata": {},
   "outputs": [
    {
     "name": "stdout",
     "output_type": "stream",
     "text": [
      "Number of rows: 2520\n"
     ]
    }
   ],
   "source": [
    "####################################################################################################\n",
    "# pre-process\n",
    "\n",
    "original_csv_links = [\n",
    "    \"/Users/maslychm/projects/vr_selection/Assets/StreamingAssets/density_data/sr_sub2_1665156140.csv\",\n",
    "    \"/Users/maslychm/projects/vr_selection/Assets/StreamingAssets/density_data/sr_sub3_1665169118.csv\",\n",
    "    \"/Users/maslychm/projects/vr_selection/Assets/StreamingAssets/density_data/sr_sub4_1665171433.csv\",\n",
    "    \"/Users/maslychm/projects/vr_selection/Assets/StreamingAssets/density_data/sr_sub5_1665177450.csv\",\n",
    "    \"/Users/maslychm/projects/vr_selection/Assets/StreamingAssets/density_data/sr_sub6_1665181701.csv\",\n",
    "    \"/Users/maslychm/projects/vr_selection/Assets/StreamingAssets/density_data/sr_sub7_1665429371.csv\",\n",
    "    \"/Users/maslychm/projects/vr_selection/Assets/StreamingAssets/density_data/sr_sub8_1665435287.csv\",\n",
    "    \"/Users/maslychm/projects/vr_selection/Assets/StreamingAssets/density_data/sr_sub9_1665447708.csv\",\n",
    "    \"/Users/maslychm/projects/vr_selection/Assets/StreamingAssets/density_data/sr_sub10_1665494513.csv\",\n",
    "    \"/Users/maslychm/projects/vr_selection/Assets/StreamingAssets/density_data/sr_sub11_1665499310.csv\",\n",
    "    \"/Users/maslychm/projects/vr_selection/Assets/StreamingAssets/density_data/sr_sub12_1665522669.csv\",\n",
    "    \"/Users/maslychm/projects/vr_selection/Assets/StreamingAssets/density_data/sr_sub13_1665531443.csv\",\n",
    "    \"/Users/maslychm/projects/vr_selection/Assets/StreamingAssets/density_data/sr_sub14_1665584720.csv\",\n",
    "    \"/Users/maslychm/projects/vr_selection/Assets/StreamingAssets/density_data/sr_sub15_1665591432.csv\",\n",
    "    \"/Users/maslychm/projects/vr_selection/Assets/StreamingAssets/density_data/sr_sub16_1665620373.csv\",\n",
    "    \"/Users/maslychm/projects/vr_selection/Assets/StreamingAssets/density_data/sr_sub17_1665623547.csv\",\n",
    "    \"/Users/maslychm/projects/vr_selection/Assets/StreamingAssets/density_data/sr_sub18_1665671006.csv\",\n",
    "    \"/Users/maslychm/projects/vr_selection/Assets/StreamingAssets/density_data/sr_sub19_1665677719.csv\",\n",
    "    \"/Users/maslychm/projects/vr_selection/Assets/StreamingAssets/density_data/sr_sub20_1665682149.csv\",\n",
    "    \"/Users/maslychm/projects/vr_selection/Assets/StreamingAssets/density_data/sr_sub21_1665688623.csv\",\n",
    "    \"/Users/maslychm/projects/vr_selection/Assets/StreamingAssets/density_data/sr_sub22_1665701569.csv\",\n",
    "]\n",
    "\n",
    "assert len(original_csv_links) == len(list(set(original_csv_links)))\n",
    "\n",
    "csv_root = \"/Users/maslychm/projects/vr_selection/density_data/\"\n",
    "processed_csv_links = []\n",
    "for link in original_csv_links:\n",
    "    df = pd.read_csv(link)\n",
    "    df[\"global_trial_idx\"] = pd.Series(range(1, 121))\n",
    "    \n",
    "    sub_idx = link.split(\"sub\")[-1].split(\"_\")[0]\n",
    "    # print(sub_idx)\n",
    "    processed_csv_link = csv_root + \"sub_\" + sub_idx + \".csv\"\n",
    "    df.to_csv(processed_csv_link, index=False)\n",
    "    processed_csv_links.append(processed_csv_link)\n",
    "\n",
    "del df\n",
    "\n",
    "####################################################################################################\n",
    "# load data\n",
    "\n",
    "dataframes = [pd.read_csv(link) for link in processed_csv_links]\n",
    "dfs = pd.concat(dataframes)\n",
    "\n",
    "# drop trials where number of attemps is more than 1\n",
    "# dfs = dfs[dfs[\"num_attempts\"] == 1]\n",
    "\n",
    "## TODO REMOVE ALL FIRST TRIALS PER TECHNIQUE\n",
    "\n",
    "# drop rows where trial_time is over 20\n",
    "# dfs = dfs[dfs[\"trial_time\"] < 23]\n",
    "\n",
    "# drop above 3 sdtev\n",
    "# dfs = dfs[dfs[\"trial_time\"] < dfs[\"trial_time\"].mean() + 3 * dfs[\"trial_time\"].std()]\n",
    "\n",
    "dfs = dfs.reset_index()\n",
    "\n",
    "# pre-process global trial index: mod global_trial_idx by 31\n",
    "# dfs[\"global_trial_idx\"] = dfs[\"global_trial_idx\"] % 31\n",
    "\n",
    "print(f\"Number of rows: {len(dfs)}\")\n",
    "\n",
    "dfs.to_csv(\"all.csv\", index=False)"
   ]
  },
  {
   "cell_type": "code",
   "execution_count": null,
   "metadata": {},
   "outputs": [],
   "source": [
    "# # count number of trials with more than 1 attempt per condition\n",
    "# for technique in dfs.technique.unique():\n",
    "#     for trial_type in dfs.trial_type.unique():\n",
    "        \n",
    "#         # num attempts above 1\n",
    "#         more_attempts_df = dfs[(dfs[\"technique\"] == technique) & (dfs[\"trial_type\"] == trial_type)]\n",
    "#         more_attempts_df = more_attempts_df[more_attempts_df[\"num_attempts\"] > 1][\"num_attempts\"]\n",
    "#         print(technique, trial_type, more_attempts_df.count())"
   ]
  },
  {
   "cell_type": "code",
   "execution_count": 2,
   "metadata": {},
   "outputs": [],
   "source": [
    "order = [\n",
    "    [\"Flower\", \"ConeExpand\"],\n",
    "    [\"OhMiniMap\", \"2DMiniMap+\"],\n",
    "    [\"ThreeDMiniMap\", \"3DMiniMap\"],\n",
    "    [\"GravityZone\", \"GravityZone\"],\n",
    "]"
   ]
  },
  {
   "cell_type": "code",
   "execution_count": null,
   "metadata": {},
   "outputs": [],
   "source": [
    "# dfs.groupby(\n",
    "#     [\n",
    "#         # \"subject_id\", \n",
    "#         \"technique\",\n",
    "#         \"trial_type\"\n",
    "#     ]\n",
    "# )[[\n",
    "#     \"trial_time\", \n",
    "#     # \"num_attempts\"\n",
    "# ]].mean()#.plot.bar()\n",
    "\n",
    "# pass"
   ]
  },
  {
   "cell_type": "code",
   "execution_count": null,
   "metadata": {},
   "outputs": [],
   "source": [
    "ax = sns.catplot(data=dfs, x=\"trial_type\", y=\"trial_time\", col=\"technique\", kind=\"violin\", showfliers=False)"
   ]
  },
  {
   "cell_type": "code",
   "execution_count": null,
   "metadata": {},
   "outputs": [],
   "source": [
    "# ax = sns.catplot(data=dfs, hue=\"trial_type\", x=\"technique\", y=\"trial_time\", col=\"density\", kind=\"box\", showfliers=False)"
   ]
  },
  {
   "cell_type": "code",
   "execution_count": null,
   "metadata": {},
   "outputs": [],
   "source": [
    "# # ax = sns.barplot(data=dfs, x=\"trial_type\", y=\"trial_time\", hue=\"technique\", order=[o[0] for o in techniques_order])\n",
    "# ax = sns.barplot(\n",
    "#     data=dfs, \n",
    "#     x=\"trial_type\", \n",
    "#     y=\"trial_time\", \n",
    "#     hue=\"technique\", \n",
    "#     hue_order=[o[0] for o in order],\n",
    "#     order=[\"Search\", \"Repeat\"],\n",
    "#     ci=95,\n",
    "# )\n",
    "# ax.legend(loc=\"lower left\")\n",
    "\n",
    "# # set the hue labels\n",
    "# handles, labels = ax.get_legend_handles_labels()\n",
    "# labels = [o[1] for o in order]\n",
    "# ax.legend(handles=handles[:], labels=labels[:])\n",
    "\n",
    "# # ax = sns.violinplot(data=dfs, x=\"trial_type\", y=\"trial_time\", hue=\"technique\")"
   ]
  },
  {
   "cell_type": "code",
   "execution_count": null,
   "metadata": {},
   "outputs": [],
   "source": [
    "# ax = sns.histplot(data=dfs, x=\"trial_time\", hue=\"trial_type\", multiple=\"stack\", bins=100)"
   ]
  },
  {
   "cell_type": "code",
   "execution_count": null,
   "metadata": {},
   "outputs": [],
   "source": [
    "# distance to object to trial time\n",
    "# ax = sns.lmplot(x=\"distance_to_obj\", y=\"trial_time\", data=dfs, hue=\"technique\")\n",
    "\n",
    "# split by trial type\n",
    "# ax = sns.lmplot(x=\"distance_to_obj\", y=\"trial_time\", data=dfs, hue=\"technique\", col=\"trial_type\")\n",
    "\n",
    "# ax = sns.lmplot(x=\"global_trial_idx\", y=\"trial_time\", data=dfs, col=\"trial_type\", hue=\"technique\")\n",
    "\n",
    "# ax = sns.lineplot(x=\"global_trial_idx\", y=\"trial_time\", data=dfs, hue=\"trial_type\")"
   ]
  },
  {
   "cell_type": "code",
   "execution_count": null,
   "metadata": {},
   "outputs": [],
   "source": [
    "# dfs.groupby([\"technique\", \"trial_type\"])[[\n",
    "#     \"trial_time\", \n",
    "#     \"num_attempts\",\n",
    "#     # \"left_hand_distance_travelled\", \n",
    "#     # \"right_hand_distance_travelled\"\n",
    "# ]].mean()"
   ]
  },
  {
   "cell_type": "code",
   "execution_count": null,
   "metadata": {},
   "outputs": [],
   "source": [
    "# dfs.columns.unique()"
   ]
  },
  {
   "cell_type": "code",
   "execution_count": null,
   "metadata": {},
   "outputs": [],
   "source": [
    "# cleandf = dfs[dfs[\"trial_time\"] < 30]"
   ]
  },
  {
   "cell_type": "code",
   "execution_count": null,
   "metadata": {},
   "outputs": [],
   "source": [
    "# sns.histplot(data=cleandf, x=\"trial_time\", hue=\"trial_type\", multiple=\"stack\", bins=20)"
   ]
  },
  {
   "cell_type": "code",
   "execution_count": null,
   "metadata": {},
   "outputs": [],
   "source": [
    "# grouped_means = dfs.groupby(\n",
    "#     [\n",
    "#         \"subject_id\",\n",
    "#         \"technique\",\n",
    "#         \"trial_type\"\n",
    "#     ]\n",
    "# )[[\n",
    "#     \"trial_time\",\n",
    "#     \"num_attempts\",\n",
    "#     \"technique\",\n",
    "#     \"trial_type\",\n",
    "#     # \"left_hand_distance_travelled\",\n",
    "#     # \"right_hand_distance_travelled\"\n",
    "# ]].mean()\n",
    "\n",
    "# print(len(grouped_means))"
   ]
  },
  {
   "cell_type": "code",
   "execution_count": null,
   "metadata": {},
   "outputs": [],
   "source": [
    "# ax = sns.lmplot(data=dfs, x=\"density\", y=\"trial_time\", hue=\"technique\", col=\"trial_type\")"
   ]
  },
  {
   "cell_type": "code",
   "execution_count": null,
   "metadata": {},
   "outputs": [],
   "source": [
    "# single_attempt_dfs = dfs[dfs[\"num_attempts\"] == 1]\n",
    "# print(len(single_attempt_dfs))"
   ]
  },
  {
   "cell_type": "code",
   "execution_count": null,
   "metadata": {},
   "outputs": [],
   "source": [
    "# ax = sns.barplot(\n",
    "#     data=single_attempt_dfs, \n",
    "#     x=\"trial_type\", \n",
    "#     y=\"trial_time\", \n",
    "#     hue=\"technique\", \n",
    "#     hue_order=[o[0] for o in order],\n",
    "# )"
   ]
  },
  {
   "cell_type": "code",
   "execution_count": 10,
   "metadata": {},
   "outputs": [
    {
     "name": "stdout",
     "output_type": "stream",
     "text": [
      "2489\n",
      "diff =  31\n",
      "diff =  1.2301587301587302 %\n"
     ]
    }
   ],
   "source": [
    "# remove outliers per-techique per-trial-type\n",
    "\n",
    "dfs_no_outliers_per_condition = pd.DataFrame()\n",
    "\n",
    "for technique in dfs.technique.unique():\n",
    "    tdfs = dfs[dfs[\"technique\"] == technique]\n",
    "\n",
    "    for trial_type in tdfs.trial_type.unique():\n",
    "        ttdfs = tdfs[tdfs[\"trial_type\"] == trial_type]\n",
    "\n",
    "        # drop outliers which are above 3 standard deviations for trial time\n",
    "        cleandfs = ttdfs[ttdfs[\"trial_time\"] < ttdfs[\"trial_time\"].mean() + 4 * ttdfs[\"trial_time\"].std()]\n",
    "\n",
    "        dfs_no_outliers_per_condition = pd.concat([dfs_no_outliers_per_condition, cleandfs])\n",
    "\n",
    "print(len(dfs_no_outliers_per_condition))\n",
    "\n",
    "print(\"diff = \", len(dfs) - len(dfs_no_outliers_per_condition))\n",
    "print(\"diff = \", (len(dfs) - len(dfs_no_outliers_per_condition)) / len(dfs) * 100, \"%\")\n",
    "\n",
    "dfs_no_outliers_per_condition.to_csv(\"clean.csv\", index=False)"
   ]
  },
  {
   "cell_type": "code",
   "execution_count": null,
   "metadata": {},
   "outputs": [],
   "source": [
    "ax = sns.barplot(\n",
    "    data=dfs_no_outliers_per_condition, \n",
    "    x=\"trial_type\", \n",
    "    y=\"trial_time\", \n",
    "    hue=\"technique\", \n",
    "    hue_order=[o[0] for o in order],\n",
    "    order=[\"Search\", \"Repeat\"],\n",
    "    ci=95,\n",
    ")\n",
    "\n",
    "handles, labels = ax.get_legend_handles_labels()\n",
    "labels = [o[1] for o in order]\n",
    "# ax.legend(handles=handles[:], labels=labels[:])\n",
    "ax.legend(loc=\"lower left\", handles=handles[:], labels=labels[:])\n",
    "\n",
    "# set size of plot\n",
    "# fig = plt.gcf()\n",
    "# fig.set_size_inches(10, 6)\n",
    "\n",
    "# set the hue labels\n"
   ]
  },
  {
   "cell_type": "code",
   "execution_count": null,
   "metadata": {},
   "outputs": [],
   "source": [
    "# # ax = sns.barplot(\n",
    "# #     data=dfs_no_outliers_per_condition, \n",
    "# #     x=\"trial_type\", \n",
    "# #     y=\"right_hand_distance_travelled\", \n",
    "# #     hue=\"technique\", \n",
    "# #     hue_order=[o[0] for o in order]\n",
    "# # )\n",
    "\n",
    "# # ax = sns.barplot(\n",
    "# #     data=dfs_no_outliers_per_condition, \n",
    "# #     x=\"trial_type\", \n",
    "# #     y=\"left_hand_distance_travelled\",\n",
    "# #     hue=\"technique\", \n",
    "# #     hue_order=[o[0] for o in order]\n",
    "# # )\n",
    "\n",
    "# dfs_no_outliers_per_condition[\"total_clicks\"] = dfs_no_outliers_per_condition[\"left_trigger_clicked\"] + dfs_no_outliers_per_condition[\"right_trigger_clicked\"] + dfs_no_outliers_per_condition[\"left_grip_clicked\"] + dfs_no_outliers_per_condition[\"right_grip_clicked\"]\n",
    "\n",
    "# # plot total number of clicks per technique\n",
    "# # clicks_df = pd.DataFrame()\n",
    "# # for row in dfs_no_outliers_per_condition.itertuples():\n",
    "\n",
    "# #     total_clicks = row.left_trigger_clicked + row.right_trigger_clicked + row.left_grip_clicked + row.right_grip_clicked\n",
    "# #     subject = row.subject_id\n",
    "# #     technique = row.technique\n",
    "# #     trial_type = row.trial_type\n",
    "    \n",
    "#     # new_row = dict()\n",
    "#     # new_row[\"subject_id\"] = subject\n",
    "#     # new_row[\"technique\"] = technique\n",
    "#     # new_row[\"trial_type\"] = trial_type\n",
    "#     # new_row[\"total_clicks\"] = total_clicks\n",
    "\n",
    "#     # clicks_df = pd.concat([clicks_df, pd.DataFrame(new_row, index=[0])])\n",
    "\n",
    "#     # row[\"total_clicks\"] = total_clicks\n",
    "\n",
    "# # plot number of attempts vs total clicks\n",
    "# ax = sns.lmplot(data=dfs_no_outliers_per_condition, x=\"num_attempts\", y=\"total_clicks\", hue=\"technique\", col=\"trial_type\")"
   ]
  },
  {
   "cell_type": "code",
   "execution_count": null,
   "metadata": {},
   "outputs": [],
   "source": [
    "# ax = sns.barplot(data=clicks_df, x=\"trial_type\", y=\"total_clicks\", hue=\"technique\", hue_order=[o[0] for o in order])"
   ]
  },
  {
   "cell_type": "code",
   "execution_count": null,
   "metadata": {},
   "outputs": [],
   "source": [
    "# dfs_no_outliers_per_condition.groupby([\"technique\"])[\"trial_time\"].mean()"
   ]
  },
  {
   "cell_type": "code",
   "execution_count": 12,
   "metadata": {},
   "outputs": [],
   "source": [
    "# organize data: rows are partcipants, colums are conditions\n",
    "\n",
    "condensed_df = pd.DataFrame()\n",
    "\n",
    "for subject in dfs_no_outliers_per_condition.subject_id.unique():\n",
    "\n",
    "    subject_row = dict()\n",
    "    subject_row[\"subject_id\"] = subject\n",
    "\n",
    "    sdfs = dfs_no_outliers_per_condition[dfs_no_outliers_per_condition[\"subject_id\"] == subject]\n",
    "\n",
    "    for technique in sdfs.technique.unique():\n",
    "        tdfs = sdfs[sdfs[\"technique\"] == technique]\n",
    "\n",
    "        for trial_type in tdfs.trial_type.unique():\n",
    "\n",
    "            # if trial_type == \"Repeat\":\n",
    "            #     continue\n",
    "\n",
    "            ttdfs = tdfs[tdfs[\"trial_type\"] == trial_type]\n",
    "\n",
    "            for density_level in sdfs.density.unique():\n",
    "                dttdfs = ttdfs[ttdfs[\"density\"] == density_level]\n",
    "\n",
    "                subject_row[technique + \"_\" + trial_type + \"_\" + str(density_level)] = dttdfs[\"trial_time\"].mean()\n",
    "    \n",
    "    condensed_df = pd.concat([condensed_df, pd.DataFrame(subject_row, index=[0])])\n",
    "\n",
    "condensed_df.to_csv(\"condensed_df.csv\", index=False)\n"
   ]
  },
  {
   "cell_type": "code",
   "execution_count": 9,
   "metadata": {},
   "outputs": [],
   "source": [
    "# condensed_df.columns.values"
   ]
  },
  {
   "cell_type": "code",
   "execution_count": 3,
   "metadata": {},
   "outputs": [],
   "source": [
    "# condensed_df.replace(\"ThreeDMiniMap\", \"3DMiniMap\", inplace=True)\n",
    "# condensed_df.replace(\"OhMiniMap\", \"2DMiniMap+\", inplace=True)\n",
    "# condensed_df.replace(\"Flower\", \"ConeExpand\", inplace=True)\n",
    "# # condensed_df.replace(\"GravityZone\", \"GravityZone\", inplace=True)\n",
    "\n",
    "condensed_df.replace(order[0][0], order[0][1], inplace=True)\n",
    "condensed_df.replace(order[1][0], order[1][1], inplace=True)\n",
    "condensed_df.replace(order[2][0], order[2][1], inplace=True)\n",
    "condensed_df.replace(order[3][0], order[3][1], inplace=True)"
   ]
  },
  {
   "cell_type": "code",
   "execution_count": 4,
   "metadata": {},
   "outputs": [
    {
     "ename": "ValueError",
     "evalue": "Could not interpret input 'trial_type'",
     "output_type": "error",
     "traceback": [
      "\u001b[0;31m---------------------------------------------------------------------------\u001b[0m",
      "\u001b[0;31mValueError\u001b[0m                                Traceback (most recent call last)",
      "\u001b[1;32m/Users/maslychm/projects/vr_selection/data_analysis/density_levels.ipynb Cell 27\u001b[0m in \u001b[0;36m<cell line: 4>\u001b[0;34m()\u001b[0m\n\u001b[1;32m      <a href='vscode-notebook-cell:/Users/maslychm/projects/vr_selection/data_analysis/density_levels.ipynb#X35sZmlsZQ%3D%3D?line=0'>1</a>\u001b[0m fig, ax \u001b[39m=\u001b[39m plt\u001b[39m.\u001b[39msubplots(figsize\u001b[39m=\u001b[39m(\u001b[39m7\u001b[39m, \u001b[39m5\u001b[39m))\n\u001b[1;32m      <a href='vscode-notebook-cell:/Users/maslychm/projects/vr_selection/data_analysis/density_levels.ipynb#X35sZmlsZQ%3D%3D?line=2'>3</a>\u001b[0m \u001b[39m# plot condensed data\u001b[39;00m\n\u001b[0;32m----> <a href='vscode-notebook-cell:/Users/maslychm/projects/vr_selection/data_analysis/density_levels.ipynb#X35sZmlsZQ%3D%3D?line=3'>4</a>\u001b[0m sns\u001b[39m.\u001b[39;49mbarplot(\n\u001b[1;32m      <a href='vscode-notebook-cell:/Users/maslychm/projects/vr_selection/data_analysis/density_levels.ipynb#X35sZmlsZQ%3D%3D?line=4'>5</a>\u001b[0m     data\u001b[39m=\u001b[39;49mcondensed_df, \n\u001b[1;32m      <a href='vscode-notebook-cell:/Users/maslychm/projects/vr_selection/data_analysis/density_levels.ipynb#X35sZmlsZQ%3D%3D?line=5'>6</a>\u001b[0m     x\u001b[39m=\u001b[39;49m\u001b[39m\"\u001b[39;49m\u001b[39mtrial_type\u001b[39;49m\u001b[39m\"\u001b[39;49m, \n\u001b[1;32m      <a href='vscode-notebook-cell:/Users/maslychm/projects/vr_selection/data_analysis/density_levels.ipynb#X35sZmlsZQ%3D%3D?line=6'>7</a>\u001b[0m     y\u001b[39m=\u001b[39;49m\u001b[39m\"\u001b[39;49m\u001b[39mtrial_time\u001b[39;49m\u001b[39m\"\u001b[39;49m, \n\u001b[1;32m      <a href='vscode-notebook-cell:/Users/maslychm/projects/vr_selection/data_analysis/density_levels.ipynb#X35sZmlsZQ%3D%3D?line=7'>8</a>\u001b[0m     hue\u001b[39m=\u001b[39;49m\u001b[39m\"\u001b[39;49m\u001b[39mtechnique\u001b[39;49m\u001b[39m\"\u001b[39;49m, \n\u001b[1;32m      <a href='vscode-notebook-cell:/Users/maslychm/projects/vr_selection/data_analysis/density_levels.ipynb#X35sZmlsZQ%3D%3D?line=8'>9</a>\u001b[0m     hue_order\u001b[39m=\u001b[39;49m[o[\u001b[39m1\u001b[39;49m] \u001b[39mfor\u001b[39;49;00m o \u001b[39min\u001b[39;49;00m order], \n\u001b[1;32m     <a href='vscode-notebook-cell:/Users/maslychm/projects/vr_selection/data_analysis/density_levels.ipynb#X35sZmlsZQ%3D%3D?line=9'>10</a>\u001b[0m     order\u001b[39m=\u001b[39;49m[\u001b[39m\"\u001b[39;49m\u001b[39mSearch\u001b[39;49m\u001b[39m\"\u001b[39;49m, \u001b[39m\"\u001b[39;49m\u001b[39mRepeat\u001b[39;49m\u001b[39m\"\u001b[39;49m], \n\u001b[1;32m     <a href='vscode-notebook-cell:/Users/maslychm/projects/vr_selection/data_analysis/density_levels.ipynb#X35sZmlsZQ%3D%3D?line=10'>11</a>\u001b[0m     ci\u001b[39m=\u001b[39;49m\u001b[39m95\u001b[39;49m,\n\u001b[1;32m     <a href='vscode-notebook-cell:/Users/maslychm/projects/vr_selection/data_analysis/density_levels.ipynb#X35sZmlsZQ%3D%3D?line=11'>12</a>\u001b[0m     ax\u001b[39m=\u001b[39;49max,\n\u001b[1;32m     <a href='vscode-notebook-cell:/Users/maslychm/projects/vr_selection/data_analysis/density_levels.ipynb#X35sZmlsZQ%3D%3D?line=12'>13</a>\u001b[0m     capsize\u001b[39m=\u001b[39;49m\u001b[39m0.04\u001b[39;49m,\n\u001b[1;32m     <a href='vscode-notebook-cell:/Users/maslychm/projects/vr_selection/data_analysis/density_levels.ipynb#X35sZmlsZQ%3D%3D?line=13'>14</a>\u001b[0m )\n\u001b[1;32m     <a href='vscode-notebook-cell:/Users/maslychm/projects/vr_selection/data_analysis/density_levels.ipynb#X35sZmlsZQ%3D%3D?line=15'>16</a>\u001b[0m handles, labels \u001b[39m=\u001b[39m ax\u001b[39m.\u001b[39mget_legend_handles_labels()\n\u001b[1;32m     <a href='vscode-notebook-cell:/Users/maslychm/projects/vr_selection/data_analysis/density_levels.ipynb#X35sZmlsZQ%3D%3D?line=16'>17</a>\u001b[0m labels \u001b[39m=\u001b[39m [o[\u001b[39m1\u001b[39m] \u001b[39mfor\u001b[39;00m o \u001b[39min\u001b[39;00m order]\n",
      "File \u001b[0;32m~/opt/anaconda3/envs/mps39/lib/python3.9/site-packages/seaborn/_decorators.py:46\u001b[0m, in \u001b[0;36m_deprecate_positional_args.<locals>.inner_f\u001b[0;34m(*args, **kwargs)\u001b[0m\n\u001b[1;32m     36\u001b[0m     warnings\u001b[39m.\u001b[39mwarn(\n\u001b[1;32m     37\u001b[0m         \u001b[39m\"\u001b[39m\u001b[39mPass the following variable\u001b[39m\u001b[39m{}\u001b[39;00m\u001b[39m as \u001b[39m\u001b[39m{}\u001b[39;00m\u001b[39mkeyword arg\u001b[39m\u001b[39m{}\u001b[39;00m\u001b[39m: \u001b[39m\u001b[39m{}\u001b[39;00m\u001b[39m. \u001b[39m\u001b[39m\"\u001b[39m\n\u001b[1;32m     38\u001b[0m         \u001b[39m\"\u001b[39m\u001b[39mFrom version 0.12, the only valid positional argument \u001b[39m\u001b[39m\"\u001b[39m\n\u001b[0;32m   (...)\u001b[0m\n\u001b[1;32m     43\u001b[0m         \u001b[39mFutureWarning\u001b[39;00m\n\u001b[1;32m     44\u001b[0m     )\n\u001b[1;32m     45\u001b[0m kwargs\u001b[39m.\u001b[39mupdate({k: arg \u001b[39mfor\u001b[39;00m k, arg \u001b[39min\u001b[39;00m \u001b[39mzip\u001b[39m(sig\u001b[39m.\u001b[39mparameters, args)})\n\u001b[0;32m---> 46\u001b[0m \u001b[39mreturn\u001b[39;00m f(\u001b[39m*\u001b[39;49m\u001b[39m*\u001b[39;49mkwargs)\n",
      "File \u001b[0;32m~/opt/anaconda3/envs/mps39/lib/python3.9/site-packages/seaborn/categorical.py:3182\u001b[0m, in \u001b[0;36mbarplot\u001b[0;34m(x, y, hue, data, order, hue_order, estimator, ci, n_boot, units, seed, orient, color, palette, saturation, errcolor, errwidth, capsize, dodge, ax, **kwargs)\u001b[0m\n\u001b[1;32m   3169\u001b[0m \u001b[39m@_deprecate_positional_args\u001b[39m\n\u001b[1;32m   3170\u001b[0m \u001b[39mdef\u001b[39;00m \u001b[39mbarplot\u001b[39m(\n\u001b[1;32m   3171\u001b[0m     \u001b[39m*\u001b[39m,\n\u001b[0;32m   (...)\u001b[0m\n\u001b[1;32m   3179\u001b[0m     \u001b[39m*\u001b[39m\u001b[39m*\u001b[39mkwargs,\n\u001b[1;32m   3180\u001b[0m ):\n\u001b[0;32m-> 3182\u001b[0m     plotter \u001b[39m=\u001b[39m _BarPlotter(x, y, hue, data, order, hue_order,\n\u001b[1;32m   3183\u001b[0m                           estimator, ci, n_boot, units, seed,\n\u001b[1;32m   3184\u001b[0m                           orient, color, palette, saturation,\n\u001b[1;32m   3185\u001b[0m                           errcolor, errwidth, capsize, dodge)\n\u001b[1;32m   3187\u001b[0m     \u001b[39mif\u001b[39;00m ax \u001b[39mis\u001b[39;00m \u001b[39mNone\u001b[39;00m:\n\u001b[1;32m   3188\u001b[0m         ax \u001b[39m=\u001b[39m plt\u001b[39m.\u001b[39mgca()\n",
      "File \u001b[0;32m~/opt/anaconda3/envs/mps39/lib/python3.9/site-packages/seaborn/categorical.py:1584\u001b[0m, in \u001b[0;36m_BarPlotter.__init__\u001b[0;34m(self, x, y, hue, data, order, hue_order, estimator, ci, n_boot, units, seed, orient, color, palette, saturation, errcolor, errwidth, capsize, dodge)\u001b[0m\n\u001b[1;32m   1579\u001b[0m \u001b[39mdef\u001b[39;00m \u001b[39m__init__\u001b[39m(\u001b[39mself\u001b[39m, x, y, hue, data, order, hue_order,\n\u001b[1;32m   1580\u001b[0m              estimator, ci, n_boot, units, seed,\n\u001b[1;32m   1581\u001b[0m              orient, color, palette, saturation, errcolor,\n\u001b[1;32m   1582\u001b[0m              errwidth, capsize, dodge):\n\u001b[1;32m   1583\u001b[0m     \u001b[39m\"\"\"Initialize the plotter.\"\"\"\u001b[39;00m\n\u001b[0;32m-> 1584\u001b[0m     \u001b[39mself\u001b[39;49m\u001b[39m.\u001b[39;49mestablish_variables(x, y, hue, data, orient,\n\u001b[1;32m   1585\u001b[0m                              order, hue_order, units)\n\u001b[1;32m   1586\u001b[0m     \u001b[39mself\u001b[39m\u001b[39m.\u001b[39mestablish_colors(color, palette, saturation)\n\u001b[1;32m   1587\u001b[0m     \u001b[39mself\u001b[39m\u001b[39m.\u001b[39mestimate_statistic(estimator, ci, n_boot, seed)\n",
      "File \u001b[0;32m~/opt/anaconda3/envs/mps39/lib/python3.9/site-packages/seaborn/categorical.py:153\u001b[0m, in \u001b[0;36m_CategoricalPlotter.establish_variables\u001b[0;34m(self, x, y, hue, data, orient, order, hue_order, units)\u001b[0m\n\u001b[1;32m    151\u001b[0m     \u001b[39mif\u001b[39;00m \u001b[39misinstance\u001b[39m(var, \u001b[39mstr\u001b[39m):\n\u001b[1;32m    152\u001b[0m         err \u001b[39m=\u001b[39m \u001b[39m\"\u001b[39m\u001b[39mCould not interpret input \u001b[39m\u001b[39m'\u001b[39m\u001b[39m{}\u001b[39;00m\u001b[39m'\u001b[39m\u001b[39m\"\u001b[39m\u001b[39m.\u001b[39mformat(var)\n\u001b[0;32m--> 153\u001b[0m         \u001b[39mraise\u001b[39;00m \u001b[39mValueError\u001b[39;00m(err)\n\u001b[1;32m    155\u001b[0m \u001b[39m# Figure out the plotting orientation\u001b[39;00m\n\u001b[1;32m    156\u001b[0m orient \u001b[39m=\u001b[39m infer_orient(\n\u001b[1;32m    157\u001b[0m     x, y, orient, require_numeric\u001b[39m=\u001b[39m\u001b[39mself\u001b[39m\u001b[39m.\u001b[39mrequire_numeric\n\u001b[1;32m    158\u001b[0m )\n",
      "\u001b[0;31mValueError\u001b[0m: Could not interpret input 'trial_type'"
     ]
    },
    {
     "data": {
      "image/png": "[encoded data removed]",
      "text/plain": [
       "<Figure size 504x360 with 1 Axes>"
      ]
     },
     "metadata": {},
     "output_type": "display_data"
    }
   ],
   "source": [
    "fig, ax = plt.subplots(figsize=(7, 5))\n",
    "\n",
    "# plot condensed data\n",
    "sns.barplot(\n",
    "    data=condensed_df, \n",
    "    x=\"trial_type\", \n",
    "    y=\"trial_time\", \n",
    "    hue=\"technique\", \n",
    "    hue_order=[o[1] for o in order], \n",
    "    order=[\"Search\", \"Repeat\"], \n",
    "    ci=95,\n",
    "    ax=ax,\n",
    "    capsize=0.04,\n",
    ")\n",
    "\n",
    "handles, labels = ax.get_legend_handles_labels()\n",
    "labels = [o[1] for o in order]\n",
    "ax.legend(handles=handles[:], labels=labels[:], loc=\"lower left\", fontsize=12)\n",
    "# ax.legend(fontsize=5, loc=\"lower left\")\n",
    "\n",
    "# set axis font size\n",
    "ax.tick_params(axis='both', which='major', labelsize=14)\n",
    "\n",
    "# set outer labels\n",
    "ax.set_xlabel(\"Trial Type\", fontsize=14)\n",
    "ax.set_ylabel(\"Trial Time (s)\", fontsize=14)\n",
    "\n",
    "fig.tight_layout()\n",
    "\n",
    "fig.savefig(\"trial_time_by_condition.pdf\", bbox_inches=\"tight\")"
   ]
  },
  {
   "cell_type": "code",
   "execution_count": null,
   "metadata": {},
   "outputs": [],
   "source": [
    "g = sns.catplot(\n",
    "    data=condensed_df, \n",
    "    x=\"trial_type\", \n",
    "    y=\"trial_time\", \n",
    "    hue=\"technique\", \n",
    "    col=\"density\", \n",
    "    kind=\"bar\", \n",
    "    ci=95,\n",
    "    height=4,\n",
    "    aspect=1,\n",
    "    sharey=True,\n",
    "    hue_order=[o[1] for o in order],\n",
    "    order=[\"Search\", \"Repeat\"],\n",
    "    capsize=.03,\n",
    ")\n",
    "g.set_axis_labels(\"\", \"Trial Time (s)\")\n",
    "# g.set_xticklabels([o[1] for o in order])\n",
    "\n",
    "# set legend font size\n",
    "g.legend.set_title(\"\")\n",
    "plt.setp(g.legend.get_texts(), fontsize='14')\n",
    "\n",
    "# set axis font size\n",
    "\n",
    "g.tight_layout()\n",
    "\n",
    "g.savefig(\"trial_time_by_condition_and_density.pdf\", bbox_inches=\"tight\", dpi=150)"
   ]
  },
  {
   "cell_type": "code",
   "execution_count": null,
   "metadata": {},
   "outputs": [],
   "source": []
  },
  {
   "cell_type": "code",
   "execution_count": null,
   "metadata": {},
   "outputs": [],
   "source": [
    "# columns: technique, trial_type, trial_time"
   ]
  },
  {
   "cell_type": "code",
   "execution_count": null,
   "metadata": {},
   "outputs": [],
   "source": [
    "# from bioinfokit.analys import stat"
   ]
  },
  {
   "cell_type": "code",
   "execution_count": null,
   "metadata": {},
   "outputs": [],
   "source": [
    "import statsmodels.api as sm\n",
    "import statsmodels.stats as stats\n",
    "from statsmodels.formula.api import ols"
   ]
  },
  {
   "cell_type": "code",
   "execution_count": null,
   "metadata": {},
   "outputs": [],
   "source": [
    "# # perform two-way ANOVA\n",
    "# model = ols('trial_time ~ C(technique) + C(density) + C(trial_type) + C(technique):C(trial_type) + C(technique):C(density) + C(density):C(trial_type)', data=condensed_df).fit()\n",
    "# sm.stats.anova_lm(model, typ=3)\n",
    "\n",
    "# # do 2 separate two way for trial types\n",
    "\n",
    "# # TODO run t tests on anova results with bonferroni correction"
   ]
  },
  {
   "cell_type": "code",
   "execution_count": null,
   "metadata": {},
   "outputs": [],
   "source": [
    "# ANOVA with search only\n",
    "condensed_search = condensed_df[condensed_df[\"trial_type\"] == \"Search\"]\n",
    "model = ols('trial_time ~ C(technique) + C(density) + C(technique):C(density)', data=condensed_search).fit()\n",
    "sm.stats.anova_lm(model, typ=2)"
   ]
  },
  {
   "cell_type": "code",
   "execution_count": null,
   "metadata": {},
   "outputs": [],
   "source": [
    "# res = ols(\"trial_time ~ C(technique)\", data=condensed_search).fit()\n",
    "# pw = res.t_test_pairwise(\"C(technique)\", method=\"bonferroni\")\n",
    "# pw.result_frame\n",
    "\n",
    "# res = ols(\"trial_time ~ C(technique) + C(density)\", data=condensed_search).fit()\n",
    "# pw = res.t_test_pairwise(\"C(technique)\", method=\"bonferroni\")\n",
    "# pw.result_frame\n",
    "\n",
    "# for level in condensed_search.density.unique():\n",
    "#     print(level)\n",
    "#     res = ols(\"trial_time ~ C(technique)\", data=condensed_search[condensed_search[\"density\"] == level]).fit()\n",
    "#     pw = res.t_test_pairwise(\"C(technique)\", method=\"bonferroni\")\n",
    "#     print(pw.result_frame)\n",
    "\n",
    "res = ols(\"trial_time ~ C(density)\", data=condensed_search).fit()\n",
    "pw = res.t_test_pairwise(\"C(density)\", method=\"bonferroni\")\n",
    "pw.result_frame"
   ]
  },
  {
   "cell_type": "code",
   "execution_count": null,
   "metadata": {},
   "outputs": [],
   "source": [
    "# res = ols(\"trial_time ~ C(technique) + C(density)\", data=condensed_search).fit()\n",
    "# pw = res.t_test_pairwise(\"C(density)\", method=\"bonferroni\")\n",
    "# pw.result_frame"
   ]
  },
  {
   "cell_type": "code",
   "execution_count": null,
   "metadata": {},
   "outputs": [],
   "source": [
    "# ANOVA with repeat only\n",
    "condensed_repeat = condensed_df[condensed_df[\"trial_type\"] == \"Repeat\"]\n",
    "model = ols('trial_time ~ C(technique) + C(density) + C(technique):C(density)', data=condensed_repeat).fit()\n",
    "sm.stats.anova_lm(model, typ=2)"
   ]
  },
  {
   "cell_type": "code",
   "execution_count": null,
   "metadata": {},
   "outputs": [],
   "source": [
    "# res = ols(\"trial_time ~ C(technique) + C(density)\", data=condensed_repeat).fit()\n",
    "# pw = res.t_test_pairwise(\"C(technique)\", method=\"bonferroni\")\n",
    "# pw.result_frame"
   ]
  },
  {
   "cell_type": "code",
   "execution_count": null,
   "metadata": {},
   "outputs": [],
   "source": [
    "res = ols(\"trial_time ~ C(density)\", data=condensed_repeat).fit()\n",
    "pw = res.t_test_pairwise(\"C(density)\", method=\"bonferroni\")\n",
    "pw.result_frame"
   ]
  },
  {
   "cell_type": "code",
   "execution_count": null,
   "metadata": {},
   "outputs": [],
   "source": [
    "from scipy.stats import f_oneway, ttest_ind, kstest"
   ]
  },
  {
   "cell_type": "code",
   "execution_count": null,
   "metadata": {},
   "outputs": [],
   "source": [
    "# level = 1\n",
    "# leveldf = condensed_df[condensed_df[\"density\"] == level]\n",
    "\n",
    "# flower = leveldf[leveldf[\"technique\"] == \"Flower\"][\"trial_time\"]\n",
    "# gravity_zone = leveldf[leveldf[\"technique\"] == \"GravityZone\"][\"trial_time\"]\n",
    "# oh_minimap = leveldf[leveldf[\"technique\"] == \"OhMiniMap\"][\"trial_time\"]\n",
    "# td_minimap = leveldf[leveldf[\"technique\"] == \"ThreeDMiniMap\"][\"trial_time\"]\n",
    "\n",
    "# # one-way anova\n",
    "# res = f_oneway(flower, gravity_zone, oh_minimap, td_minimap)\n",
    "# print(res)\n",
    "\n",
    "# # pairwise t-tests\n",
    "# res = ttest_ind(flower, gravity_zone)\n",
    "# print(\"flower, gravity:\", res)\n",
    "\n",
    "# res = ttest_ind(flower, oh_minimap)\n",
    "# print(\"flower, oh:\", res)\n",
    "\n",
    "# res = ttest_ind(flower, td_minimap)\n",
    "# print(\"flower, td:\", res)\n",
    "\n",
    "# res = ttest_ind(gravity_zone, oh_minimap)\n",
    "# print(\"gravity, oh:\", res)\n",
    "\n",
    "# res = ttest_ind(gravity_zone, td_minimap)\n",
    "# print(\"gravity, td:\", res)\n",
    "\n",
    "# res = ttest_ind(oh_minimap, td_minimap)\n",
    "# print(\"oh, td:\", res)"
   ]
  },
  {
   "cell_type": "code",
   "execution_count": null,
   "metadata": {},
   "outputs": [],
   "source": [
    "# loop t-tests over all levels\n",
    "\n",
    "for task in condensed_df.trial_type.unique():\n",
    "\n",
    "    print()\n",
    "    print(task)\n",
    "\n",
    "    for level in condensed_df.density.unique():\n",
    "        leveldf = condensed_df[condensed_df[\"density\"] == level]\n",
    "\n",
    "        flower = leveldf[leveldf[\"technique\"] == \"ConeExpand\"][\"trial_time\"]\n",
    "        # gravity_zone = leveldf[leveldf[\"technique\"] == \"GravityZone\"][\"trial_time\"]\n",
    "        oh_minimap = leveldf[leveldf[\"technique\"] == \"2DMiniMap+\"][\"trial_time\"]\n",
    "        # td_minimap = leveldf[leveldf[\"technique\"] == \"3DMiniMap\"][\"trial_time\"]\n",
    "\n",
    "        # # normality test using kstest\n",
    "        # print(\"ConeExpand is normal? \", kstest(flower, \"norm\").pvalue < 0.05)\n",
    "        # print(\"GravityZone is normal? \", kstest(gravity_zone, \"norm\").pvalue < 0.05)\n",
    "        # print(\"2DMiniMap+ is normal? \", kstest(oh_minimap, \"norm\").pvalue < 0.05)\n",
    "        # print(\"3DMiniMap is normal? \", kstest(td_minimap, \"norm\").pvalue < 0.05)\n",
    "\n",
    "        # continue\n",
    "\n",
    "        techniques_vals = {\n",
    "            \"ConeExpand\": flower,\n",
    "            # \"GravityZone\": gravity_zone,\n",
    "            \"2DMiniMap+\": oh_minimap,\n",
    "            # \"3DMiniMap\": td_minimap,\n",
    "        }\n",
    "\n",
    "        print()\n",
    "        print(\"Level: \", level)\n",
    "\n",
    "        # # one-way anova\n",
    "        # res = f_oneway(flower, gravity_zone, oh_minimap, td_minimap)\n",
    "        # print(res)\n",
    "\n",
    "        # pairwise t-tests\n",
    "        for tv in techniques_vals:\n",
    "            for tv2 in techniques_vals:\n",
    "                \n",
    "                if tv in [\"ConeExpand\", \"GravityZone\"] and tv2 in [\"ConeExpand\", \"GravityZone\"]:\n",
    "                    continue\n",
    "\n",
    "                if tv != tv2:\n",
    "                    res = ttest_ind(techniques_vals[tv], techniques_vals[tv2])\n",
    "                    if res.pvalue >= 0.05:\n",
    "                        continue\n",
    "                    print(f\"{tv}, {tv2}:\".ljust(30), res.statistic, res.pvalue, res.pvalue < 0.05)"
   ]
  },
  {
   "cell_type": "code",
   "execution_count": null,
   "metadata": {},
   "outputs": [],
   "source": [
    "for task in condensed_df.trial_type.unique():\n",
    "\n",
    "    print()\n",
    "    print(task)\n",
    "\n",
    "    # t tests for each level agains the other levels\n",
    "    level1 = condensed_df[(condensed_df[\"density\"] == 1) & (condensed_df[\"trial_type\"] == task)]\n",
    "    level2 = condensed_df[(condensed_df[\"density\"] == 2) & (condensed_df[\"trial_type\"] == task)]\n",
    "    level3 = condensed_df[(condensed_df[\"density\"] == 3) & (condensed_df[\"trial_type\"] == task)]\n",
    "\n",
    "    # level1 vs level2\n",
    "    res = ttest_ind(level1[\"trial_time\"], level2[\"trial_time\"])\n",
    "    print(\"level1 vs level2:\", res.statistic, res.pvalue, res.pvalue < 0.05)\n",
    "\n",
    "    # level1 vs level3\n",
    "    res = ttest_ind(level1[\"trial_time\"], level3[\"trial_time\"])\n",
    "    print(\"level1 vs level3:\", res.statistic, res.pvalue, res.pvalue < 0.05)\n",
    "\n",
    "    # level2 vs level3\n",
    "    res = ttest_ind(level2[\"trial_time\"], level3[\"trial_time\"])\n",
    "    print(\"level2 vs level3:\", res.statistic, res.pvalue, res.pvalue < 0.05)\n",
    "\n",
    "    print()\n",
    "\n",
    "    # t tests for each technique agains the other techniques\n",
    "    cone_expand = condensed_df[(condensed_df[\"technique\"] == \"ConeExpand\") & (condensed_df[\"trial_type\"] == task)]\n",
    "    gravity_zone = condensed_df[(condensed_df[\"technique\"] == \"GravityZone\") & (condensed_df[\"trial_type\"] == task)]\n",
    "    oh_minimap = condensed_df[(condensed_df[\"technique\"] == \"2DMiniMap+\") & (condensed_df[\"trial_type\"] == task)]\n",
    "    td_minimap = condensed_df[(condensed_df[\"technique\"] == \"3DMiniMap\") & (condensed_df[\"trial_type\"] == task)]\n",
    "\n",
    "    # cone_expand vs gravity_zone\n",
    "    res = ttest_ind(cone_expand[\"trial_time\"], gravity_zone[\"trial_time\"])\n",
    "    print(\"cone_expand vs gravity_zone:\", res.statistic, res.pvalue, res.pvalue < 0.05)\n",
    "\n",
    "    # cone_expand vs oh_minimap\n",
    "    res = ttest_ind(cone_expand[\"trial_time\"], oh_minimap[\"trial_time\"])\n",
    "    print(\"cone_expand vs oh_minimap:\", res.statistic, res.pvalue, res.pvalue < 0.05)\n",
    "\n",
    "    # cone_expand vs td_minimap\n",
    "    res = ttest_ind(cone_expand[\"trial_time\"], td_minimap[\"trial_time\"])\n",
    "    print(\"cone_expand vs td_minimap:\", res.statistic, res.pvalue, res.pvalue < 0.05)\n",
    "\n",
    "    # gravity_zone vs oh_minimap\n",
    "    res = ttest_ind(gravity_zone[\"trial_time\"], oh_minimap[\"trial_time\"])\n",
    "    print(\"gravity_zone vs oh_minimap:\", res.statistic, res.pvalue, res.pvalue < 0.05)\n",
    "\n",
    "    # gravity_zone vs td_minimap\n",
    "    res = ttest_ind(gravity_zone[\"trial_time\"], td_minimap[\"trial_time\"])\n",
    "    print(\"gravity_zone vs td_minimap:\", res.statistic, res.pvalue, res.pvalue < 0.05)\n",
    "\n",
    "    # oh_minimap vs td_minimap\n",
    "    res = ttest_ind(oh_minimap[\"trial_time\"], td_minimap[\"trial_time\"])\n",
    "    print(\"oh_minimap vs td_minimap:\", res.statistic, res.pvalue, res.pvalue < 0.05)"
   ]
  },
  {
   "cell_type": "code",
   "execution_count": null,
   "metadata": {},
   "outputs": [],
   "source": []
  }
 ],
 "metadata": {
  "kernelspec": {
   "display_name": "Python 3.9.6 ('mps39')",
   "language": "python",
   "name": "python3"
  },
  "language_info": {
   "codemirror_mode": {
    "name": "ipython",
    "version": 3
   },
   "file_extension": ".py",
   "mimetype": "text/x-python",
   "name": "python",
   "nbconvert_exporter": "python",
   "pygments_lexer": "ipython3",
   "version": "3.9.6"
  },
  "orig_nbformat": 4,
  "vscode": {
   "interpreter": {
    "hash": "c6dc9c39fe004fdf6ef7a014d68605ce2c21b8e3d9f7da4a132739e3da17ac70"
   }
  }
 },
 "nbformat": 4,
 "nbformat_minor": 2
}
